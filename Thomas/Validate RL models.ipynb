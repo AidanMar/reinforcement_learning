{
 "cells": [
  {
   "cell_type": "code",
   "execution_count": 1,
   "metadata": {},
   "outputs": [],
   "source": [
    "import gym\n",
    "from gym import spaces\n",
    "from gym.utils import seeding\n",
    "from empyrical import max_drawdown, alpha_beta, sharpe_ratio, annual_return\n",
    "import pandas as pd\n",
    "import numpy as np"
   ]
  },
  {
   "cell_type": "code",
   "execution_count": 2,
   "metadata": {},
   "outputs": [
    {
     "name": "stderr",
     "output_type": "stream",
     "text": [
      "2020-11-06 10:18:08,813\tINFO services.py:1164 -- View the Ray dashboard at \u001b[1m\u001b[32mhttp://127.0.0.1:8267\u001b[39m\u001b[22m\n"
     ]
    },
    {
     "data": {
      "text/plain": [
       "{'node_ip_address': '155.198.195.98',\n",
       " 'raylet_ip_address': '155.198.195.98',\n",
       " 'redis_address': '155.198.195.98:54400',\n",
       " 'object_store_address': '/tmp/ray/session_2020-11-06_10-18-08_230560_76661/sockets/plasma_store',\n",
       " 'raylet_socket_name': '/tmp/ray/session_2020-11-06_10-18-08_230560_76661/sockets/raylet',\n",
       " 'webui_url': '127.0.0.1:8267',\n",
       " 'session_dir': '/tmp/ray/session_2020-11-06_10-18-08_230560_76661',\n",
       " 'metrics_export_port': 58048}"
      ]
     },
     "execution_count": 2,
     "metadata": {},
     "output_type": "execute_result"
    }
   ],
   "source": [
    "import ray\n",
    "# Start up Ray. This must be done before we instantiate any RL agents.\n",
    "ray.init(num_cpus=10, ignore_reinit_error=True, log_to_driver=False)\n"
   ]
  },
  {
   "cell_type": "code",
   "execution_count": 174,
   "metadata": {},
   "outputs": [],
   "source": [
    "\n",
    "def load_data(price_source='Alpaca_Equity_daily',tickers=['SPY','QQQ'],start='2008-01-02',end='2010-01-02'):\n",
    "    '''Returned price data to use in gym environment'''\n",
    "    ## Load data \n",
    "    ## Each dataframe will have columns date and a collection of fields \n",
    "    if price_source in ['Alpaca_Equity_daily', 'Alpaca_Equity_minute', 'Quandl_Futures_daily']:\n",
    "        price_df = []\n",
    "        a = Arctic('localhost')\n",
    "        lib = a[price_source]\n",
    "        for t in tickers:\n",
    "            df1 = lib.read(t).set_index('date').loc[start:end]\n",
    "            price_df.append(df1[['Open','Volume']])\n",
    "    if price_source in ['csvdata']:\n",
    "        price_df = []\n",
    "        for t in tickers:\n",
    "            df1 = pd.read_csv('csvdata/{}.csv'.format(t)).set_index('date').loc[start:end]\n",
    "            price_df.append(df1)\n",
    "    ## Merge data \n",
    "    ## Reference dataframe is taken from the first ticker read where the column labels are assumed to be the same\n",
    "    if len(price_df) > 0:\n",
    "        ref_df = price_df[0]\n",
    "        ref_df_columns = price_df[0].columns\n",
    "        for i in range(1,len(price_df)):\n",
    "            ref_df = ref_df.merge(price_df[i], how='outer', on='date',)\n",
    "        merged_df = ref_df.sort_values(by='date').fillna(0)\n",
    "    ## Prepare price tensor for observation space \n",
    "    price_tensor = np.zeros(shape=(merged_df.shape[0],len(ref_df_columns),len(price_df)))\n",
    "    for count in range(len(price_df)):\n",
    "        price_tensor[:,:,count] = merged_df.values[:,len(ref_df_columns)*count:len(ref_df_columns)*(count+1)]\n",
    "    \n",
    "    return {'dates':merged_df.index, 'fields':ref_df_columns, 'data':price_tensor }\n",
    "\n",
    "\n",
    "class Equitydaily(gym.Env):\n",
    "\n",
    "    def __init__(self,env_config):\n",
    "        \n",
    "        self.tickers = env_config['tickers']\n",
    "        self.lookback = env_config['lookback']\n",
    "        # Load price data\n",
    "        price_data = load_data(env_config['pricing_source'],env_config['tickers'],env_config['start'],env_config['end'])\n",
    "        self.dates = price_data['dates']\n",
    "        self.fields = price_data['fields']\n",
    "        self.pricedata = price_data['data']\n",
    "        # Set up historical actions and rewards \n",
    "        self.n_assets = len(self.tickers) + 1\n",
    "        self.n_metrics = 2 \n",
    "        self.n_features = len(self.fields) * len(self.tickers) + self.n_assets + self.n_metrics # reward function\n",
    "        \n",
    "        # Set up action and observation space\n",
    "        # The last asset is cash \n",
    "        self.action_space = spaces.Box(low=-1, high=1, shape=(len(self.tickers)+1,), dtype=np.float32)\n",
    "        self.observation_space = spaces.Box(low=-np.inf, high=np.inf,\n",
    "                                            shape=(self.lookback,self.n_features), dtype=np.float32)\n",
    "\n",
    "        self.reset()\n",
    "\n",
    "        \n",
    "\n",
    "    def step(self, action):\n",
    "        \n",
    "        ## Normalise action space \n",
    "        normalised_action = action / np.sum(np.abs(action))\n",
    "        \n",
    "        done = False\n",
    "        # Rebalance portfolio at open, use log return of open price in the following day \n",
    "        next_day_log_return = self.pricedata[self.index+1,0,:]\n",
    "        # transaction cost \n",
    "        transaction_cost = self.transaction_cost(normalised_action,self.position_series[-1])\n",
    "        \n",
    "        # Rebalancing \n",
    "        self.position_series = np.append(self.position_series, [normalised_action], axis=0)\n",
    "        today_portfolio_return = np.sum(normalised_action[:-1] * next_day_log_return) + np.sum(transaction_cost)\n",
    "        self.log_return_series = np.append(self.log_return_series, [today_portfolio_return], axis=0)\n",
    "        \n",
    "        \n",
    "        # Calculate reward \n",
    "        # Need to cast log_return in pd series to use the functions in empyrical \n",
    "        live_days = self.index - self.lookback\n",
    "        burnin = 250\n",
    "        recent_series = pd.Series(self.log_return_series)[-100:]\n",
    "        whole_series = pd.Series(self.log_return_series)\n",
    "        if live_days > burnin: \n",
    "            self.metric = annual_return(whole_series) + 0.5* max_drawdown(whole_series)\n",
    "        else:\n",
    "            self.metric = annual_return(whole_series) + 0.5* max_drawdown(whole_series) *live_days / burnin\n",
    "        reward = self.metric - self.metric_series[-1]\n",
    "        #reward = self.metric\n",
    "        self.metric_series = np.append(self.metric_series, [self.metric], axis=0)\n",
    "        \n",
    "        # Check if the end of backtest\n",
    "        if self.index >= self.pricedata.shape[0]-2:\n",
    "            done = True\n",
    "            \n",
    "        # Prepare observation for next day\n",
    "        self.index += 1\n",
    "        price_lookback = self.pricedata[self.index-self.lookback:self.index,:,:].reshape(self.lookback,-1)\n",
    "        metrics = np.vstack((self.log_return_series[self.index-self.lookback:self.index], \n",
    "                             self.metric_series[self.index-self.lookback:self.index])).transpose()\n",
    "        self.observation = np.concatenate( (price_lookback,  metrics,\n",
    "                                            self.position_series[self.index-self.lookback:self.index]), axis=1)\n",
    "            \n",
    "            \n",
    "        return self.observation, reward, done, {}\n",
    "    \n",
    "    \n",
    "    def reset(self):\n",
    "        \n",
    "        self.log_return_series = np.zeros(shape=self.lookback)\n",
    "        self.metric_series = np.zeros(shape=self.lookback)\n",
    "        self.position_series = np.zeros(shape=(self.lookback,self.n_assets))\n",
    "        \n",
    "        self.metric = 0                    \n",
    "        self.index = self.lookback\n",
    "        # Observation join the price, metric and position \n",
    "        price_lookback = self.pricedata[:self.index,:,:].reshape(self.lookback,-1)\n",
    "        metrics = np.vstack((self.log_return_series, self.metric_series)).transpose()\n",
    "        self.observation = np.concatenate((price_lookback, metrics, self.position_series), axis=1)\n",
    "        \n",
    "        return self.observation\n",
    "    \n",
    "    \n",
    "    def transaction_cost(self,new_action,old_action,):\n",
    "        turnover = np.abs(new_action - old_action) \n",
    "        fees = 0.9995\n",
    "        tcost = turnover * np.log(fees)\n",
    "        return tcost \n"
   ]
  },
  {
   "cell_type": "code",
   "execution_count": 175,
   "metadata": {},
   "outputs": [],
   "source": [
    "from ray.rllib.agents.ppo import PPOTrainer, DEFAULT_CONFIG\n",
    "from ray.tune.logger import pretty_print"
   ]
  },
  {
   "cell_type": "code",
   "execution_count": 176,
   "metadata": {},
   "outputs": [],
   "source": [
    "config = DEFAULT_CONFIG.copy()\n",
    "config['num_workers'] = 1\n",
    "config[\"num_envs_per_worker\"] = 1\n",
    "config[\"rollout_fragment_length\"] = 20\n",
    "config[\"train_batch_size\"] = 8000\n",
    "config[\"batch_mode\"] = \"complete_episodes\"\n",
    "config['num_sgd_iter'] = 25\n",
    "config['sgd_minibatch_size'] = 3200\n",
    "config['model']['fcnet_hiddens'] = [50, 25]\n",
    "config['num_cpus_per_worker'] = 2  # This avoids running out of resources in the notebook environment when this cell is re-executed\n",
    "config['env_config'] = {'pricing_source':'Alpaca_Equity_daily', 'tickers':['SPY','QQQ','SHY','GLD','TLT','LQD'], 'lookback':200, 'start':'2008-01-02', 'end':'2020-12-31'}\n"
   ]
  },
  {
   "cell_type": "code",
   "execution_count": 177,
   "metadata": {},
   "outputs": [
    {
     "name": "stderr",
     "output_type": "stream",
     "text": [
      "2020-10-28 18:14:45,588\tINFO trainable.py:252 -- Trainable.setup took 71.018 seconds. If your trainable is slow to initialize, consider setting reuse_actors=True to reduce actor creation overheads.\n",
      "2020-10-28 18:14:45,589\tWARNING util.py:39 -- Install gputil for GPU system monitoring.\n"
     ]
    }
   ],
   "source": [
    "PPO_agent = PPOTrainer(config, Equitydaily)"
   ]
  },
  {
   "cell_type": "code",
   "execution_count": 178,
   "metadata": {},
   "outputs": [],
   "source": [
    "env = Equitydaily({'pricing_source':'Alpaca_Equity_daily', 'tickers':['SPY','QQQ','SHY','GLD','TLT','LQD'], 'lookback':200, 'start':'2008-01-02', 'end':'2020-12-31'})"
   ]
  },
  {
   "cell_type": "code",
   "execution_count": 179,
   "metadata": {},
   "outputs": [
    {
     "name": "stderr",
     "output_type": "stream",
     "text": [
      "2020-10-28 18:15:48,674\tINFO trainable.py:481 -- Restored on 155.198.192.44 from checkpoint: checkpoint_49970/checkpoint-49970\n",
      "2020-10-28 18:15:48,675\tINFO trainable.py:489 -- Current state after restoring: {'_iteration': 49970, '_timesteps_total': None, '_time_total': 609852.200548172, '_episodes_total': 499700}\n"
     ]
    }
   ],
   "source": [
    "PPO_agent.restore('checkpoint_49970/checkpoint-49970')"
   ]
  },
  {
   "cell_type": "code",
   "execution_count": 180,
   "metadata": {},
   "outputs": [],
   "source": [
    "state = env.reset()\n",
    "done = False\n",
    "reward_list = []\n",
    "cum_reward = 0\n",
    "actions = list()\n",
    "\n",
    "while not done:\n",
    "    action = agent.compute_action(state)\n",
    "    #action = np.array([1,0,0,0,0,0,1])\n",
    "    state, reward, done, _ = env.step(action)\n",
    "    cum_reward += reward\n",
    "    actions.append(action)\n",
    "    reward_list.append(reward)\n"
   ]
  },
  {
   "cell_type": "code",
   "execution_count": 188,
   "metadata": {},
   "outputs": [
    {
     "data": {
      "text/plain": [
       "<matplotlib.axes._subplots.AxesSubplot at 0x7f5bcfb952e0>"
      ]
     },
     "execution_count": 188,
     "metadata": {},
     "output_type": "execute_result"
    },
    {
     "data": {
      "image/png": "[encoded data removed]",
      "text/plain": [
       "<Figure size 432x288 with 1 Axes>"
      ]
     },
     "metadata": {
      "needs_background": "light"
     },
     "output_type": "display_data"
    }
   ],
   "source": [
    "\n",
    "pd.Series(env.log_return_series).cumsum()[-500:].plot()"
   ]
  },
  {
   "cell_type": "code",
   "execution_count": 182,
   "metadata": {},
   "outputs": [
    {
     "data": {
      "text/plain": [
       "<matplotlib.axes._subplots.AxesSubplot at 0x7f5c63367f40>"
      ]
     },
     "execution_count": 182,
     "metadata": {},
     "output_type": "execute_result"
    },
    {
     "data": {
      "image/png": "[encoded data removed]",
      "text/plain": [
       "<Figure size 432x288 with 1 Axes>"
      ]
     },
     "metadata": {
      "needs_background": "light"
     },
     "output_type": "display_data"
    }
   ],
   "source": [
    "pd.Series(reward_list).cumsum().plot()"
   ]
  },
  {
   "cell_type": "code",
   "execution_count": 183,
   "metadata": {},
   "outputs": [
    {
     "data": {
      "text/html": [
       "<div>\n",
       "<style scoped>\n",
       "    .dataframe tbody tr th:only-of-type {\n",
       "        vertical-align: middle;\n",
       "    }\n",
       "\n",
       "    .dataframe tbody tr th {\n",
       "        vertical-align: top;\n",
       "    }\n",
       "\n",
       "    .dataframe thead th {\n",
       "        text-align: right;\n",
       "    }\n",
       "</style>\n",
       "<table border=\"1\" class=\"dataframe\">\n",
       "  <thead>\n",
       "    <tr style=\"text-align: right;\">\n",
       "      <th></th>\n",
       "      <th>SPY</th>\n",
       "      <th>QQQ</th>\n",
       "      <th>SHY</th>\n",
       "      <th>GLD</th>\n",
       "      <th>TLT</th>\n",
       "      <th>LQD</th>\n",
       "      <th>Cash</th>\n",
       "    </tr>\n",
       "    <tr>\n",
       "      <th>date</th>\n",
       "      <th></th>\n",
       "      <th></th>\n",
       "      <th></th>\n",
       "      <th></th>\n",
       "      <th></th>\n",
       "      <th></th>\n",
       "      <th></th>\n",
       "    </tr>\n",
       "  </thead>\n",
       "  <tbody>\n",
       "    <tr>\n",
       "      <th>2008-01-03</th>\n",
       "      <td>0.000000</td>\n",
       "      <td>0.000000</td>\n",
       "      <td>0.000000</td>\n",
       "      <td>0.000000</td>\n",
       "      <td>0.000000</td>\n",
       "      <td>0.000000</td>\n",
       "      <td>0.000000</td>\n",
       "    </tr>\n",
       "    <tr>\n",
       "      <th>2008-01-04</th>\n",
       "      <td>0.000000</td>\n",
       "      <td>0.000000</td>\n",
       "      <td>0.000000</td>\n",
       "      <td>0.000000</td>\n",
       "      <td>0.000000</td>\n",
       "      <td>0.000000</td>\n",
       "      <td>0.000000</td>\n",
       "    </tr>\n",
       "    <tr>\n",
       "      <th>2008-01-07</th>\n",
       "      <td>0.000000</td>\n",
       "      <td>0.000000</td>\n",
       "      <td>0.000000</td>\n",
       "      <td>0.000000</td>\n",
       "      <td>0.000000</td>\n",
       "      <td>0.000000</td>\n",
       "      <td>0.000000</td>\n",
       "    </tr>\n",
       "    <tr>\n",
       "      <th>2008-01-08</th>\n",
       "      <td>0.000000</td>\n",
       "      <td>0.000000</td>\n",
       "      <td>0.000000</td>\n",
       "      <td>0.000000</td>\n",
       "      <td>0.000000</td>\n",
       "      <td>0.000000</td>\n",
       "      <td>0.000000</td>\n",
       "    </tr>\n",
       "    <tr>\n",
       "      <th>2008-01-09</th>\n",
       "      <td>0.000000</td>\n",
       "      <td>0.000000</td>\n",
       "      <td>0.000000</td>\n",
       "      <td>0.000000</td>\n",
       "      <td>0.000000</td>\n",
       "      <td>0.000000</td>\n",
       "      <td>0.000000</td>\n",
       "    </tr>\n",
       "    <tr>\n",
       "      <th>...</th>\n",
       "      <td>...</td>\n",
       "      <td>...</td>\n",
       "      <td>...</td>\n",
       "      <td>...</td>\n",
       "      <td>...</td>\n",
       "      <td>...</td>\n",
       "      <td>...</td>\n",
       "    </tr>\n",
       "    <tr>\n",
       "      <th>2020-10-06</th>\n",
       "      <td>-0.174436</td>\n",
       "      <td>-0.136621</td>\n",
       "      <td>-0.125495</td>\n",
       "      <td>0.088971</td>\n",
       "      <td>-0.347071</td>\n",
       "      <td>-0.098113</td>\n",
       "      <td>-0.029293</td>\n",
       "    </tr>\n",
       "    <tr>\n",
       "      <th>2020-10-07</th>\n",
       "      <td>0.197686</td>\n",
       "      <td>-0.003326</td>\n",
       "      <td>0.049477</td>\n",
       "      <td>0.197686</td>\n",
       "      <td>0.197686</td>\n",
       "      <td>0.156454</td>\n",
       "      <td>0.197686</td>\n",
       "    </tr>\n",
       "    <tr>\n",
       "      <th>2020-10-08</th>\n",
       "      <td>0.236689</td>\n",
       "      <td>-0.088875</td>\n",
       "      <td>-0.188185</td>\n",
       "      <td>0.106049</td>\n",
       "      <td>-0.236689</td>\n",
       "      <td>-0.042319</td>\n",
       "      <td>-0.101193</td>\n",
       "    </tr>\n",
       "    <tr>\n",
       "      <th>2020-10-09</th>\n",
       "      <td>-0.096043</td>\n",
       "      <td>0.021658</td>\n",
       "      <td>-0.186658</td>\n",
       "      <td>-0.186658</td>\n",
       "      <td>-0.186658</td>\n",
       "      <td>0.186658</td>\n",
       "      <td>-0.135666</td>\n",
       "    </tr>\n",
       "    <tr>\n",
       "      <th>2020-10-12</th>\n",
       "      <td>0.255754</td>\n",
       "      <td>0.230103</td>\n",
       "      <td>-0.004581</td>\n",
       "      <td>0.074771</td>\n",
       "      <td>-0.071206</td>\n",
       "      <td>0.107831</td>\n",
       "      <td>-0.255754</td>\n",
       "    </tr>\n",
       "  </tbody>\n",
       "</table>\n",
       "<p>3217 rows × 7 columns</p>\n",
       "</div>"
      ],
      "text/plain": [
       "                 SPY       QQQ       SHY       GLD       TLT       LQD  \\\n",
       "date                                                                     \n",
       "2008-01-03  0.000000  0.000000  0.000000  0.000000  0.000000  0.000000   \n",
       "2008-01-04  0.000000  0.000000  0.000000  0.000000  0.000000  0.000000   \n",
       "2008-01-07  0.000000  0.000000  0.000000  0.000000  0.000000  0.000000   \n",
       "2008-01-08  0.000000  0.000000  0.000000  0.000000  0.000000  0.000000   \n",
       "2008-01-09  0.000000  0.000000  0.000000  0.000000  0.000000  0.000000   \n",
       "...              ...       ...       ...       ...       ...       ...   \n",
       "2020-10-06 -0.174436 -0.136621 -0.125495  0.088971 -0.347071 -0.098113   \n",
       "2020-10-07  0.197686 -0.003326  0.049477  0.197686  0.197686  0.156454   \n",
       "2020-10-08  0.236689 -0.088875 -0.188185  0.106049 -0.236689 -0.042319   \n",
       "2020-10-09 -0.096043  0.021658 -0.186658 -0.186658 -0.186658  0.186658   \n",
       "2020-10-12  0.255754  0.230103 -0.004581  0.074771 -0.071206  0.107831   \n",
       "\n",
       "                Cash  \n",
       "date                  \n",
       "2008-01-03  0.000000  \n",
       "2008-01-04  0.000000  \n",
       "2008-01-07  0.000000  \n",
       "2008-01-08  0.000000  \n",
       "2008-01-09  0.000000  \n",
       "...              ...  \n",
       "2020-10-06 -0.029293  \n",
       "2020-10-07  0.197686  \n",
       "2020-10-08 -0.101193  \n",
       "2020-10-09 -0.135666  \n",
       "2020-10-12 -0.255754  \n",
       "\n",
       "[3217 rows x 7 columns]"
      ]
     },
     "execution_count": 183,
     "metadata": {},
     "output_type": "execute_result"
    }
   ],
   "source": [
    "position = pd.DataFrame(env.position_series)\n",
    "position.index = env.dates[:-1]\n",
    "position.columns = env.tickers + ['Cash']\n",
    "position"
   ]
  },
  {
   "cell_type": "code",
   "execution_count": 184,
   "metadata": {},
   "outputs": [
    {
     "data": {
      "text/plain": [
       "<matplotlib.axes._subplots.AxesSubplot at 0x7f5c4c43ee20>"
      ]
     },
     "execution_count": 184,
     "metadata": {},
     "output_type": "execute_result"
    },
    {
     "data": {
      "image/png": "[encoded data removed]",
      "text/plain": [
       "<Figure size 432x288 with 1 Axes>"
      ]
     },
     "metadata": {
      "needs_background": "light"
     },
     "output_type": "display_data"
    }
   ],
   "source": [
    "position['QQQ'][-1400:].plot()"
   ]
  },
  {
   "cell_type": "code",
   "execution_count": 185,
   "metadata": {},
   "outputs": [
    {
     "data": {
      "text/plain": [
       "<matplotlib.axes._subplots.AxesSubplot at 0x7f5b8d547b80>"
      ]
     },
     "execution_count": 185,
     "metadata": {},
     "output_type": "execute_result"
    },
    {
     "data": {
      "image/png": "[encoded data removed]",
      "text/plain": [
       "<Figure size 432x288 with 1 Axes>"
      ]
     },
     "metadata": {
      "needs_background": "light"
     },
     "output_type": "display_data"
    }
   ],
   "source": [
    "pd.Series(env.log_return_series)[-400:].plot()"
   ]
  },
  {
   "cell_type": "code",
   "execution_count": 169,
   "metadata": {},
   "outputs": [
    {
     "data": {
      "text/plain": [
       "<matplotlib.axes._subplots.AxesSubplot at 0x7f5c6332d520>"
      ]
     },
     "execution_count": 169,
     "metadata": {},
     "output_type": "execute_result"
    },
    {
     "data": {
      "image/png": "[encoded data removed]",
      "text/plain": [
       "<Figure size 432x288 with 1 Axes>"
      ]
     },
     "metadata": {
      "needs_background": "light"
     },
     "output_type": "display_data"
    }
   ],
   "source": [
    "pd.DataFrame(env.pricedata[:,0,1])[:500].plot()"
   ]
  },
  {
   "cell_type": "code",
   "execution_count": null,
   "metadata": {},
   "outputs": [],
   "source": []
  },
  {
   "cell_type": "markdown",
   "metadata": {},
   "source": [
    "SAC"
   ]
  },
  {
   "cell_type": "code",
   "execution_count": 3,
   "metadata": {},
   "outputs": [
    {
     "name": "stdout",
     "output_type": "stream",
     "text": [
      "WARNING:tensorflow:From /home/thomas/anaconda3/lib/python3.8/site-packages/tensorflow/python/compat/v2_compat.py:96: disable_resource_variables (from tensorflow.python.ops.variable_scope) is deprecated and will be removed in a future version.\n",
      "Instructions for updating:\n",
      "non-resource variables are not supported in the long term\n"
     ]
    }
   ],
   "source": [
    "from ray.rllib.agents.sac import SACTrainer, DEFAULT_CONFIG\n",
    "from ray.tune.logger import pretty_print"
   ]
  },
  {
   "cell_type": "code",
   "execution_count": 28,
   "metadata": {},
   "outputs": [],
   "source": [
    "config = DEFAULT_CONFIG.copy()\n",
    "config[\"num_workers\"] = 10\n",
    "config[\"num_envs_per_worker\"] = 10\n",
    "\n",
    "config[\"rollout_fragment_length\"] = 10\n",
    "config[\"train_batch_size\"] = 2500\n",
    "config[\"timesteps_per_iteration\"] = 10000\n",
    "config[\"buffer_size\"] = 20000\n",
    "config[\"n_step\"] = 10\n",
    "\n",
    "config[\"Q_model\"][\"fcnet_hiddens\"] = [10, 10]\n",
    "config[\"policy_model\"][\"fcnet_hiddens\"] = [10, 10]\n",
    "config[\"num_cpus_per_worker\"] = 2\n",
    "config[\"env_config\"] = {\n",
    "    \"pricing_source\": \"csvdata\",\n",
    "    \"tickers\": [\"QQQ\", \"EEM\", \"TLT\", \"SHY\", \"GLD\", \"SLV\"],\n",
    "    \"lookback\": 1,\n",
    "    \"start\": \"2007-01-02\",\n",
    "    \"end\": \"2019-12-31\",\n",
    "}\n"
   ]
  },
  {
   "cell_type": "code",
   "execution_count": 29,
   "metadata": {},
   "outputs": [],
   "source": [
    "def load_data(\n",
    "    price_source=\"csvdata\", tickers=[\"EEM\", \"QQQ\"], start=\"2008-01-02\", end=\"2010-01-02\"\n",
    "):\n",
    "    \"\"\"Returned price data to use in gym environment\"\"\"\n",
    "    # Load data\n",
    "    # Each dataframe will have columns date and a collection of fields\n",
    "    # TODO: DataLoader from mongoDB\n",
    "    # Raw price from DB, forward impute on the trading days for missing date\n",
    "    # calculate the features (log return, volatility)\n",
    "    if price_source in [\"csvdata\"]:\n",
    "        feature_df = []\n",
    "        price_tensor = []\n",
    "        for t in tickers:\n",
    "            df1 = (\n",
    "                pd.read_csv(\"csvdata/{}.csv\".format(t)).set_index(\"date\").loc[start:end]\n",
    "            )\n",
    "            feature_df.append(df1)\n",
    "            price_tensor.append(\n",
    "                df1[\"return\"]\n",
    "            )  # assumed to the be log return of the ref price\n",
    "            ref_df_columns = df1.columns\n",
    "\n",
    "    # assume all the price_df are aligned and cleaned in the DataLoader\n",
    "    merged_df = pd.concat(feature_df, axis=1, join=\"outer\")\n",
    "    price_tensor = np.vstack(price_tensor).transpose()\n",
    "\n",
    "    return {\n",
    "        \"dates\": merged_df.index,\n",
    "        \"fields\": ref_df_columns,\n",
    "        \"pricedata\": price_tensor,\n",
    "        \"data\": merged_df.values,\n",
    "    }\n",
    "\n",
    "class Equitydaily(gym.Env):\n",
    "    def __init__(self, env_config):\n",
    "\n",
    "        self.tickers = env_config[\"tickers\"]\n",
    "        self.lookback = env_config[\"lookback\"]\n",
    "        # Load price data, to be replaced by DataLoader class\n",
    "        raw_data = load_data(\n",
    "            env_config[\"pricing_source\"],\n",
    "            env_config[\"tickers\"],\n",
    "            env_config[\"start\"],\n",
    "            env_config[\"end\"],\n",
    "        )\n",
    "        # Set the trading dates, features and price data\n",
    "        self.dates = raw_data[\"dates\"]\n",
    "        self.fields = raw_data[\"fields\"]\n",
    "        self.pricedata = raw_data[\"pricedata\"]\n",
    "        self.featuredata = raw_data[\"data\"]\n",
    "        # Set up historical actions and rewards\n",
    "        self.n_assets = len(self.tickers) + 1\n",
    "        self.n_metrics = 2\n",
    "        self.n_assets_fields = len(self.fields)\n",
    "        self.n_features = (\n",
    "            self.n_assets_fields * len(self.tickers) + self.n_assets + self.n_metrics\n",
    "        )  # reward function\n",
    "\n",
    "        # Set up action and observation space\n",
    "        # The last asset is cash\n",
    "        self.action_space = spaces.Box(\n",
    "            low=-1, high=1, shape=(len(self.tickers) + 1,), dtype=np.float32\n",
    "        )\n",
    "        self.observation_space = spaces.Box(\n",
    "            low=-np.inf,\n",
    "            high=np.inf,\n",
    "            shape=(self.lookback, self.n_features),\n",
    "            dtype=np.float32,\n",
    "        )\n",
    "\n",
    "        self.reset()\n",
    "\n",
    "    def step(self, action):\n",
    "\n",
    "        ## Normalise action space\n",
    "        normalised_action = action / np.sum(np.abs(action))\n",
    "\n",
    "        done = False\n",
    "        # Rebalance portfolio at close using return of the next date\n",
    "        next_day_log_return = self.pricedata[self.index, :]\n",
    "        # transaction cost\n",
    "        transaction_cost = self.transaction_cost(\n",
    "            normalised_action, self.position_series[-1]\n",
    "        )\n",
    "\n",
    "        # Rebalancing\n",
    "        self.position_series = np.append(\n",
    "            self.position_series, [normalised_action], axis=0\n",
    "        )\n",
    "        # Portfolio return\n",
    "        today_portfolio_return = np.sum(\n",
    "            normalised_action[:-1] * next_day_log_return\n",
    "        ) + np.sum(transaction_cost)\n",
    "        self.log_return_series = np.append(\n",
    "            self.log_return_series, [today_portfolio_return], axis=0\n",
    "        )\n",
    "\n",
    "        # Calculate reward\n",
    "        # Need to cast log_return in pd series to use the functions in empyrical\n",
    "        live_days = self.index - self.lookback\n",
    "        burnin = 250\n",
    "        recent_series = pd.Series(self.log_return_series)[-100:]\n",
    "        whole_series = pd.Series(self.log_return_series)\n",
    "        if live_days > burnin:\n",
    "            self.metric = annual_return(whole_series) + 0.5 * max_drawdown(whole_series)\n",
    "        else:\n",
    "            self.metric = (\n",
    "                annual_return(whole_series)\n",
    "                + 0.5 * max_drawdown(whole_series) * live_days / burnin\n",
    "            )\n",
    "        reward = self.metric - self.metric_series[-1]\n",
    "        # reward = self.metric\n",
    "        self.metric_series = np.append(self.metric_series, [self.metric], axis=0)\n",
    "\n",
    "        # Check if the end of backtest\n",
    "        if self.index >= self.pricedata.shape[0] - 2:\n",
    "            done = True\n",
    "\n",
    "        # Prepare observation for next day\n",
    "        self.index += 1\n",
    "        self.observation = self.get_observation()\n",
    "\n",
    "        return self.observation, reward, done, {\"current_price\": next_day_log_return}\n",
    "\n",
    "    def reset(self):\n",
    "        self.log_return_series = np.zeros(shape=self.lookback)\n",
    "        self.metric_series = np.zeros(shape=self.lookback)\n",
    "        self.position_series = np.zeros(shape=(self.lookback, self.n_assets))\n",
    "        self.metric = 0\n",
    "        self.index = self.lookback\n",
    "        self.observation = self.get_observation()\n",
    "        return self.observation\n",
    "\n",
    "    def get_observation(self):\n",
    "        price_lookback = self.featuredata[self.index - self.lookback : self.index, :]\n",
    "        metrics = np.vstack(\n",
    "            (\n",
    "                self.log_return_series[self.index - self.lookback : self.index],\n",
    "                self.metric_series[self.index - self.lookback : self.index],\n",
    "            )\n",
    "        ).transpose()\n",
    "        positions = self.position_series[self.index - self.lookback : self.index]\n",
    "        observation = np.concatenate((price_lookback, metrics, positions), axis=1)\n",
    "        return observation\n",
    "\n",
    "    # 0.05% t-cost for institutional portfolios\n",
    "    def transaction_cost(\n",
    "        self,\n",
    "        new_action,\n",
    "        old_action,\n",
    "    ):\n",
    "        turnover = np.abs(new_action - old_action)\n",
    "        fees = 0.9995\n",
    "        tcost = turnover * np.log(fees)\n",
    "        return tcost\n"
   ]
  },
  {
   "cell_type": "code",
   "execution_count": 30,
   "metadata": {},
   "outputs": [
    {
     "name": "stderr",
     "output_type": "stream",
     "text": [
      "2020-11-06 10:29:38,891\tWARNING sac_tf_policy.py:36 -- When not using a state-preprocessor with SAC, `fcnet_hiddens` will be set to an empty list! Any hidden layer sizes are defined via `policy_model.fcnet_hiddens` and `Q_model.fcnet_hiddens`.\n",
      "2020-11-06 10:29:41,945\tWARNING util.py:39 -- Install gputil for GPU system monitoring.\n"
     ]
    }
   ],
   "source": [
    "SAC_agent = SACTrainer(config, Equitydaily)"
   ]
  },
  {
   "cell_type": "code",
   "execution_count": 31,
   "metadata": {},
   "outputs": [],
   "source": [
    "env = Equitydaily(config[\"env_config\"])"
   ]
  },
  {
   "cell_type": "code",
   "execution_count": 54,
   "metadata": {},
   "outputs": [
    {
     "name": "stderr",
     "output_type": "stream",
     "text": [
      "2020-11-06 16:46:59,135\tINFO trainable.py:481 -- Restored on 155.198.195.98 from checkpoint: sacagent/checkpoint_14083/checkpoint-14083\n",
      "2020-11-06 16:46:59,136\tINFO trainable.py:489 -- Current state after restoring: {'_iteration': 14083, '_timesteps_total': None, '_time_total': 58403.04395079613, '_episodes_total': 62200}\n"
     ]
    }
   ],
   "source": [
    "SAC_agent.restore('sacagent/checkpoint_14083/checkpoint-14083')"
   ]
  },
  {
   "cell_type": "code",
   "execution_count": 71,
   "metadata": {},
   "outputs": [],
   "source": [
    "state = env.reset()\n",
    "done = False\n",
    "reward_list = []\n",
    "cum_reward = 0\n",
    "actions = list()\n",
    "\n",
    "while not done:\n",
    "    if env.index % 5 ==0:\n",
    "        action = SAC_agent.compute_action(state)\n",
    "    #action = np.array([0,0,0,0,0,0,1])\n",
    "    state, reward, done, _ = env.step(action)\n",
    "    cum_reward += reward\n",
    "    actions.append(action)\n",
    "    reward_list.append(reward)\n",
    "\n"
   ]
  },
  {
   "cell_type": "code",
   "execution_count": 72,
   "metadata": {},
   "outputs": [
    {
     "data": {
      "text/plain": [
       "<matplotlib.axes._subplots.AxesSubplot at 0x7fec94d6e1c0>"
      ]
     },
     "execution_count": 72,
     "metadata": {},
     "output_type": "execute_result"
    },
    {
     "data": {
      "image/png": "[encoded data removed]",
      "text/plain": [
       "<Figure size 432x288 with 1 Axes>"
      ]
     },
     "metadata": {
      "needs_background": "light"
     },
     "output_type": "display_data"
    }
   ],
   "source": [
    "pd.Series(env.log_return_series).cumsum().plot()"
   ]
  },
  {
   "cell_type": "code",
   "execution_count": 73,
   "metadata": {},
   "outputs": [
    {
     "data": {
      "text/plain": [
       "<matplotlib.axes._subplots.AxesSubplot at 0x7fec94dc5220>"
      ]
     },
     "execution_count": 73,
     "metadata": {},
     "output_type": "execute_result"
    },
    {
     "data": {
      "image/png": "[encoded data removed]",
      "text/plain": [
       "<Figure size 432x288 with 1 Axes>"
      ]
     },
     "metadata": {
      "needs_background": "light"
     },
     "output_type": "display_data"
    }
   ],
   "source": [
    "pd.Series(reward_list).cumsum().plot()"
   ]
  },
  {
   "cell_type": "code",
   "execution_count": 79,
   "metadata": {},
   "outputs": [
    {
     "data": {
      "text/plain": [
       "<matplotlib.axes._subplots.AxesSubplot at 0x7fec94c7e2b0>"
      ]
     },
     "execution_count": 79,
     "metadata": {},
     "output_type": "execute_result"
    },
    {
     "data": {
      "image/png": "[encoded data removed]",
      "text/plain": [
       "<Figure size 432x288 with 1 Axes>"
      ]
     },
     "metadata": {
      "needs_background": "light"
     },
     "output_type": "display_data"
    },
    {
     "name": "stderr",
     "output_type": "stream",
     "text": [
      "2020-11-06 18:25:03,993\tINFO (unknown file):0 -- gc.collect() freed 16 refs in 0.22851723805069923 seconds\n"
     ]
    }
   ],
   "source": [
    "pd.DataFrame(actions)[1].plot()"
   ]
  },
  {
   "cell_type": "code",
   "execution_count": null,
   "metadata": {},
   "outputs": [],
   "source": []
  },
  {
   "cell_type": "code",
   "execution_count": null,
   "metadata": {},
   "outputs": [],
   "source": []
  },
  {
   "cell_type": "code",
   "execution_count": null,
   "metadata": {},
   "outputs": [],
   "source": []
  },
  {
   "cell_type": "code",
   "execution_count": null,
   "metadata": {},
   "outputs": [],
   "source": []
  },
  {
   "cell_type": "code",
   "execution_count": null,
   "metadata": {},
   "outputs": [],
   "source": []
  },
  {
   "cell_type": "code",
   "execution_count": null,
   "metadata": {},
   "outputs": [],
   "source": []
  },
  {
   "cell_type": "code",
   "execution_count": null,
   "metadata": {},
   "outputs": [],
   "source": []
  },
  {
   "cell_type": "markdown",
   "metadata": {},
   "source": [
    "SAC with a reward function of the diff between cumulative returns "
   ]
  },
  {
   "cell_type": "code",
   "execution_count": 4,
   "metadata": {},
   "outputs": [
    {
     "name": "stdout",
     "output_type": "stream",
     "text": [
      "WARNING:tensorflow:From /home/thomas/anaconda3/lib/python3.8/site-packages/tensorflow/python/compat/v2_compat.py:96: disable_resource_variables (from tensorflow.python.ops.variable_scope) is deprecated and will be removed in a future version.\n",
      "Instructions for updating:\n",
      "non-resource variables are not supported in the long term\n"
     ]
    }
   ],
   "source": [
    "from ray.rllib.agents.sac import SACTrainer, DEFAULT_CONFIG\n",
    "from ray.tune.logger import pretty_print"
   ]
  },
  {
   "cell_type": "code",
   "execution_count": 5,
   "metadata": {},
   "outputs": [],
   "source": [
    "config = DEFAULT_CONFIG.copy()\n",
    "config['num_workers'] = 1\n",
    "config[\"num_envs_per_worker\"] = 1\n",
    "\n",
    "config[\"rollout_fragment_length\"] = 10\n",
    "config[\"train_batch_size\"] = 250\n",
    "config[\"timesteps_per_iteration\"] = 1000\n",
    "config[\"buffer_size\"] = 20000\n",
    "config[\"n_step\"] = 10\n",
    "\n",
    "config['Q_model']['fcnet_hiddens'] = [50, 50]\n",
    "config['policy_model']['fcnet_hiddens'] = [50, 50]\n",
    "config['num_cpus_per_worker'] = 2  # This avoids running out of resources in the notebook environment when this cell is re-executed\n",
    "config['env_config'] = {'pricing_source':'Alpaca_Equity_daily', 'tickers':['SPY','QQQ','SHY','GLD','TLT','LQD'], 'lookback':200, 'start':'2008-01-02', 'end':'2018-12-31'}"
   ]
  },
  {
   "cell_type": "code",
   "execution_count": 75,
   "metadata": {},
   "outputs": [],
   "source": [
    "\n",
    "def load_data(price_source='Alpaca_Equity_daily',tickers=['SPY','QQQ'],start='2008-01-02',end='2010-01-02'):\n",
    "    '''Returned price data to use in gym environment'''\n",
    "    ## Load data \n",
    "    ## Each dataframe will have columns date and a collection of fields \n",
    "    if price_source in ['Alpaca_Equity_daily', 'Alpaca_Equity_minute', 'Quandl_Futures_daily']:\n",
    "        price_df = []\n",
    "        a = Arctic('localhost')\n",
    "        lib = a[price_source]\n",
    "        for t in tickers:\n",
    "            df1 = lib.read(t).set_index('date').loc[start:end]\n",
    "            price_df.append(df1[['Open','Volume']])\n",
    "    if price_source in ['csvdata']:\n",
    "        price_df = []\n",
    "        for t in tickers:\n",
    "            df1 = pd.read_csv('csvdata/{}.csv'.format(t)).set_index('date').loc[start:end]\n",
    "            price_df.append(df1)\n",
    "    ## Merge data \n",
    "    ## Reference dataframe is taken from the first ticker read where the column labels are assumed to be the same\n",
    "    if len(price_df) > 0:\n",
    "        ref_df = price_df[0]\n",
    "        ref_df_columns = price_df[0].columns\n",
    "        for i in range(1,len(price_df)):\n",
    "            ref_df = ref_df.merge(price_df[i], how='outer', on='date',)\n",
    "        merged_df = ref_df.sort_values(by='date').fillna(0)\n",
    "    ## Prepare price tensor for observation space \n",
    "    price_tensor = np.zeros(shape=(merged_df.shape[0],len(ref_df_columns),len(price_df)))\n",
    "    for count in range(len(price_df)):\n",
    "        price_tensor[:,:,count] = merged_df.values[:,len(ref_df_columns)*count:len(ref_df_columns)*(count+1)]\n",
    "    \n",
    "    return {'dates':merged_df.index, 'fields':ref_df_columns, 'data':price_tensor }\n",
    "\n",
    "\n",
    "class Equitydaily(gym.Env):\n",
    "\n",
    "    def __init__(self,env_config):\n",
    "        \n",
    "        self.tickers = env_config['tickers']\n",
    "        self.lookback = env_config['lookback']\n",
    "        # Load price data\n",
    "        price_data = load_data(env_config['pricing_source'],env_config['tickers'],env_config['start'],env_config['end'])\n",
    "        self.dates = price_data['dates']\n",
    "        self.fields = price_data['fields']\n",
    "        self.pricedata = price_data['data']\n",
    "        # Set up historical actions and rewards \n",
    "        self.n_assets = len(self.tickers) + 1\n",
    "        self.n_metrics = 2 \n",
    "        self.n_features = len(self.fields) * len(self.tickers) + self.n_assets + self.n_metrics # reward function\n",
    "        \n",
    "        # Set up action and observation space\n",
    "        # The last asset is cash \n",
    "        self.action_space = spaces.Box(low=-1, high=1, shape=(len(self.tickers)+1,), dtype=np.float32)\n",
    "        self.observation_space = spaces.Box(low=-np.inf, high=np.inf,\n",
    "                                            shape=(self.lookback,self.n_features), dtype=np.float32)\n",
    "\n",
    "        self.reset()\n",
    "\n",
    "        \n",
    "\n",
    "    def step(self, action):\n",
    "        \n",
    "        ## Normalise action space \n",
    "        action = action / np.sum(np.abs(action))\n",
    "        \n",
    "        done = False\n",
    "        # Rebalance portfolio at open, use log return of open price in the following day \n",
    "        next_day_log_return = self.pricedata[self.index+1,0,:]\n",
    "        # transaction cost \n",
    "        transaction_cost = self.transaction_cost(action,self.position_series[-1])\n",
    "        \n",
    "        # Rebalancing \n",
    "        self.position_series = np.append(self.position_series, [action], axis=0)\n",
    "        today_portfolio_return = np.sum(action[:-1] * next_day_log_return) + np.sum(transaction_cost)\n",
    "        self.log_return_series = np.append(self.log_return_series, [today_portfolio_return], axis=0)\n",
    "        \n",
    "        \n",
    "        # Calculate reward \n",
    "        # Need to cast log_return in pd series to use the functions in empyrical \n",
    "        if pd.Series(self.log_return_series).size > 100: \n",
    "            recent_series = pd.Series(self.log_return_series)[-100:]\n",
    "            whole_series = pd.Series(self.log_return_series)\n",
    "            self.metric = annual_return(whole_series) + 0.5* max_drawdown(whole_series)\n",
    "        else:\n",
    "            self.metric = 0\n",
    "        reward = self.metric - self.metric_series[-1]\n",
    "        #reward = self.metric\n",
    "        self.metric_series = np.append(self.metric_series, [self.metric], axis=0)\n",
    "        \n",
    "        # Check if the end of backtest\n",
    "        if self.index >= self.pricedata.shape[0]-2:\n",
    "            done = True\n",
    "            \n",
    "        # Prepare observation for next day\n",
    "        self.index += 1\n",
    "        price_lookback = self.pricedata[self.index-self.lookback:self.index,:,:].reshape(self.lookback,-1)\n",
    "        metrics = np.vstack((self.log_return_series[self.index-self.lookback:self.index], \n",
    "                             self.metric_series[self.index-self.lookback:self.index])).transpose()\n",
    "        self.observation = np.concatenate( (price_lookback,  metrics,\n",
    "                                            self.position_series[self.index-self.lookback:self.index]), axis=1)\n",
    "            \n",
    "            \n",
    "        return self.observation, reward, done, {}\n",
    "    \n",
    "    \n",
    "    def reset(self):\n",
    "        \n",
    "        self.log_return_series = np.zeros(shape=self.lookback)\n",
    "        self.metric_series = np.zeros(shape=self.lookback)\n",
    "        self.position_series = np.zeros(shape=(self.lookback,self.n_assets))\n",
    "        \n",
    "        self.metric = 0                    \n",
    "        self.index = self.lookback\n",
    "        # Observation join the price, metric and position \n",
    "        price_lookback = self.pricedata[:self.index,:,:].reshape(self.lookback,-1)\n",
    "        metrics = np.vstack((self.log_return_series, self.metric_series)).transpose()\n",
    "        self.observation = np.concatenate((price_lookback, metrics, self.position_series), axis=1)\n",
    "        \n",
    "        return self.observation\n",
    "    \n",
    "    \n",
    "    def transaction_cost(self,new_action,old_action,):\n",
    "        turnover = np.abs(new_action - old_action) \n",
    "        fees = 0.9995\n",
    "        tcost = turnover * np.log(fees)\n",
    "        return tcost \n"
   ]
  },
  {
   "cell_type": "code",
   "execution_count": 76,
   "metadata": {},
   "outputs": [
    {
     "name": "stderr",
     "output_type": "stream",
     "text": [
      "2020-10-19 13:28:35,902\tWARNING sac_tf_policy.py:36 -- When not using a state-preprocessor with SAC, `fcnet_hiddens` will be set to an empty list! Any hidden layer sizes are defined via `policy_model.fcnet_hiddens` and `Q_model.fcnet_hiddens`.\n",
      "2020-10-19 13:28:38,113\tINFO trainable.py:252 -- Trainable.setup took 75.004 seconds. If your trainable is slow to initialize, consider setting reuse_actors=True to reduce actor creation overheads.\n",
      "2020-10-19 13:28:38,115\tWARNING util.py:39 -- Install gputil for GPU system monitoring.\n"
     ]
    }
   ],
   "source": [
    "\n",
    "# Train agent \n",
    "agent = SACTrainer(config, Equitydaily)"
   ]
  },
  {
   "cell_type": "code",
   "execution_count": 77,
   "metadata": {},
   "outputs": [],
   "source": [
    "env = Equitydaily({'pricing_source':'Alpaca_Equity_daily', 'tickers':['SPY','QQQ','SHY','GLD','TLT','LQD'], 'lookback':200, 'start':'2008-01-02', 'end':'2020-12-31'})"
   ]
  },
  {
   "cell_type": "code",
   "execution_count": 78,
   "metadata": {},
   "outputs": [
    {
     "name": "stderr",
     "output_type": "stream",
     "text": [
      "2020-10-19 13:29:54,867\tINFO trainable.py:481 -- Restored on 155.198.192.44 from checkpoint: checkpoint_13272/checkpoint-13272\n",
      "2020-10-19 13:29:54,868\tINFO trainable.py:489 -- Current state after restoring: {'_iteration': 13272, '_timesteps_total': None, '_time_total': 14658.747411251068, '_episodes_total': 15700}\n"
     ]
    }
   ],
   "source": [
    "agent.restore('checkpoint_13272/checkpoint-13272')"
   ]
  },
  {
   "cell_type": "code",
   "execution_count": 79,
   "metadata": {},
   "outputs": [
    {
     "data": {
      "text/plain": [
       "<matplotlib.axes._subplots.AxesSubplot at 0x7f174c7c3c10>"
      ]
     },
     "execution_count": 79,
     "metadata": {},
     "output_type": "execute_result"
    },
    {
     "data": {
      "image/png": "[encoded data removed]",
      "text/plain": [
       "<Figure size 432x288 with 1 Axes>"
      ]
     },
     "metadata": {
      "needs_background": "light"
     },
     "output_type": "display_data"
    }
   ],
   "source": [
    "state = env.reset()\n",
    "done = False\n",
    "reward_list = []\n",
    "cum_reward = 0\n",
    "actions = list()\n",
    "\n",
    "while not done:\n",
    "    action = agent.compute_action(state)\n",
    "    #action = np.array([0,0,0,1,0,0,0])\n",
    "    state, reward, done, _ = env.step(action)\n",
    "    cum_reward += reward\n",
    "    actions.append(action)\n",
    "    reward_list.append(reward)\n",
    "\n",
    "pd.Series(env.log_return_series).cumsum().plot()"
   ]
  },
  {
   "cell_type": "code",
   "execution_count": 80,
   "metadata": {},
   "outputs": [
    {
     "data": {
      "text/plain": [
       "<matplotlib.axes._subplots.AxesSubplot at 0x7f1728d6eaf0>"
      ]
     },
     "execution_count": 80,
     "metadata": {},
     "output_type": "execute_result"
    },
    {
     "data": {
      "image/png": "[encoded data removed]",
      "text/plain": [
       "<Figure size 432x288 with 1 Axes>"
      ]
     },
     "metadata": {
      "needs_background": "light"
     },
     "output_type": "display_data"
    }
   ],
   "source": [
    "pd.Series(reward_list).cumsum().plot()"
   ]
  },
  {
   "cell_type": "code",
   "execution_count": 81,
   "metadata": {},
   "outputs": [
    {
     "data": {
      "text/plain": [
       "<matplotlib.axes._subplots.AxesSubplot at 0x7f1708151490>"
      ]
     },
     "execution_count": 81,
     "metadata": {},
     "output_type": "execute_result"
    },
    {
     "data": {
      "image/png": "[encoded data removed]",
      "text/plain": [
       "<Figure size 432x288 with 1 Axes>"
      ]
     },
     "metadata": {
      "needs_background": "light"
     },
     "output_type": "display_data"
    }
   ],
   "source": [
    "pd.Series(reward_list).plot()"
   ]
  },
  {
   "cell_type": "code",
   "execution_count": null,
   "metadata": {},
   "outputs": [],
   "source": []
  },
  {
   "cell_type": "code",
   "execution_count": 61,
   "metadata": {},
   "outputs": [],
   "source": [
    "from empyrical import max_drawdown, alpha_beta, sharpe_ratio, annual_return"
   ]
  },
  {
   "cell_type": "code",
   "execution_count": 66,
   "metadata": {},
   "outputs": [
    {
     "data": {
      "text/plain": [
       "-0.4394242243444886"
      ]
     },
     "execution_count": 66,
     "metadata": {},
     "output_type": "execute_result"
    }
   ],
   "source": [
    "max_drawdown(pd.Series(env.log_return_series))"
   ]
  },
  {
   "cell_type": "code",
   "execution_count": 67,
   "metadata": {},
   "outputs": [
    {
     "data": {
      "text/plain": [
       "-0.03626487255199695"
      ]
     },
     "execution_count": 67,
     "metadata": {},
     "output_type": "execute_result"
    }
   ],
   "source": [
    "annual_return(pd.Series(env.log_return_series))"
   ]
  },
  {
   "cell_type": "code",
   "execution_count": null,
   "metadata": {},
   "outputs": [],
   "source": []
  }
 ],
 "metadata": {
  "kernelspec": {
   "display_name": "Python 3",
   "language": "python",
   "name": "python3"
  },
  "language_info": {
   "codemirror_mode": {
    "name": "ipython",
    "version": 3
   },
   "file_extension": ".py",
   "mimetype": "text/x-python",
   "name": "python",
   "nbconvert_exporter": "python",
   "pygments_lexer": "ipython3",
   "version": "3.8.3"
  }
 },
 "nbformat": 4,
 "nbformat_minor": 4
}
