{
 "cells": [
  {
   "cell_type": "code",
   "execution_count": 86,
   "metadata": {},
   "outputs": [],
   "source": [
    "import gym\n",
    "from gym import spaces\n",
    "from gym.utils import seeding\n",
    "\n",
    "import pandas as pd\n",
    "import numpy as np\n",
    "import typing\n",
    "from datetime import datetime"
   ]
  },
  {
   "cell_type": "code",
   "execution_count": 87,
   "metadata": {},
   "outputs": [
    {
     "name": "stderr",
     "output_type": "stream",
     "text": [
      "2020-12-02 17:00:24,612\tERROR worker.py:643 -- Calling ray.init() again after it has already been called.\n"
     ]
    }
   ],
   "source": [
    "import ray\n",
    "# Start up Ray. This must be done before we instantiate any RL agents.\n",
    "ray.init(num_cpus=10, ignore_reinit_error=True, log_to_driver=False)\n"
   ]
  },
  {
   "cell_type": "code",
   "execution_count": 88,
   "metadata": {},
   "outputs": [],
   "source": [
    "\n",
    "def load_data(\n",
    "    price_source: str,\n",
    "    tickers: typing.List[str],\n",
    "    start: datetime,\n",
    "    end: datetime,\n",
    "    features: typing.List[str],\n",
    "):\n",
    "    \"\"\"Returned price data to use in gym environment\"\"\"\n",
    "    # Load data\n",
    "    # Each dataframe will have columns date and a collection of fields\n",
    "    # TODO: DataLoader from mongoDB\n",
    "    # Raw price from DB, forward impute on the trading days for missing date\n",
    "    # calculate the features (log return, volatility)\n",
    "    if price_source in [\"csvdata\"]:\n",
    "        feature_df = []\n",
    "        for t in tickers:\n",
    "            df1 = pd.read_csv(\"csvdata/{}.csv\".format(t))\n",
    "            df1[\"datetime\"] = pd.to_datetime(df1[\"datetime\"])\n",
    "            df1 = df1[(df1[\"datetime\"] >= start) & (df1[\"datetime\"] <= end)]\n",
    "            df1.set_index(\"datetime\", inplace=True)\n",
    "            selected_features = [\"return\", \"tcost\"] + features\n",
    "            feature_df.append(df1[selected_features])\n",
    "            ref_df_columns = df1[selected_features].columns\n",
    "\n",
    "    # assume all the price_df are aligned and cleaned in the DataLoader\n",
    "    merged_df = pd.concat(feature_df, axis=1, join=\"outer\")\n",
    "    # Imputer missing values with zeros\n",
    "    price_tensor = merged_df[\"return\"].fillna(0.0).values\n",
    "    tcost = merged_df[\"tcost\"].fillna(0.0).values\n",
    "\n",
    "    return {\n",
    "        \"dates\": merged_df.index,\n",
    "        \"fields\": ref_df_columns,\n",
    "        \"data\": merged_df.fillna(0.0).values,\n",
    "        \"pricedata\": price_tensor,\n",
    "        \"tcost\": tcost,\n",
    "    }\n",
    "\n",
    "\n",
    "from empyrical import max_drawdown, alpha_beta, sharpe_ratio, annual_return\n",
    "from sklearn.preprocessing import StandardScaler \n",
    "\n",
    "class Equitydaily(gym.Env):\n",
    "\n",
    "    def __init__(self,env_config):\n",
    "        \n",
    "        self.tickers = env_config['tickers']\n",
    "        self.lookback = env_config['lookback']\n",
    "        self.random_start = env_config['random_start']\n",
    "        self.trading_days = env_config['trading_days'] # Number of days the algorithm runs before resetting\n",
    "        # Load price data, to be replaced by DataLoader class\n",
    "        raw_data = load_data(env_config['pricing_source'],env_config['tickers'],env_config['start'],env_config['end'],env_config['features'])\n",
    "        # Set the trading dates, features and price data \n",
    "        self.dates = raw_data['dates']\n",
    "        self.fields = raw_data['fields']\n",
    "        self.pricedata = raw_data['pricedata']\n",
    "        self.featuredata = raw_data['data']\n",
    "        self.tcostdata = raw_data['tcost']\n",
    "        # Set up historical actions and rewards \n",
    "        self.n_assets = len(self.tickers) + 1\n",
    "        self.n_metrics = 2 \n",
    "        self.n_assets_fields = len(self.fields)\n",
    "        self.n_features = self.n_assets_fields * len(self.tickers) + self.n_assets + self.n_metrics # reward function\n",
    "        #self.n_features = self.n_assets_fields * len(self.tickers)\n",
    "        \n",
    "        # Set up action and observation space\n",
    "        # The last asset is cash \n",
    "        self.action_space = spaces.Box(low=-1, high=1, shape=(len(self.tickers)+1,), dtype=np.float32)\n",
    "        self.observation_space = spaces.Box(low=-np.inf, high=np.inf,\n",
    "                                            shape=(self.lookback,self.n_features,1), dtype=np.float32)\n",
    "\n",
    "        self.reset()\n",
    "\n",
    "    def step(self, action):\n",
    "        \n",
    "        # Trade on Friday \n",
    "        # Normalise action space \n",
    "        if self.currentdate.weekday() == 4:\n",
    "            normalised_action = action / np.sum(np.abs(action))\n",
    "            self.actions = normalised_action\n",
    "        \n",
    "        done = False\n",
    "        # Rebalance portfolio at close using return of the next date\n",
    "        next_day_log_return = self.pricedata[self.index,:]\n",
    "        # transaction cost \n",
    "        transaction_cost = self.transaction_cost(self.actions,self.position_series[-1])\n",
    "        \n",
    "        # Rebalancing \n",
    "        self.position_series = np.append(self.position_series, [self.actions], axis=0)\n",
    "        # Portfolio return \n",
    "        today_portfolio_return = np.sum(self.actions[:-1] * next_day_log_return) + np.sum(transaction_cost)\n",
    "        self.log_return_series = np.append(self.log_return_series, [today_portfolio_return], axis=0)\n",
    "        \n",
    "        \n",
    "        # Calculate reward \n",
    "        # Need to cast log_return in pd series to use the functions in empyrical \n",
    "        recent_series = pd.Series(self.log_return_series)[-100:]\n",
    "        rolling_volatility = np.std(recent_series)\n",
    "        if rolling_volatility > 0:\n",
    "            self.metric = today_portfolio_return / rolling_volatility \n",
    "        else:\n",
    "            self.metric = 0\n",
    "        reward = self.metric\n",
    "        self.metric_series = np.append(self.metric_series, [self.metric], axis=0)\n",
    "        \n",
    "        # Check if the end of backtest\n",
    "        if self.trading_days is None:\n",
    "            done = self.index >= self.pricedata.shape[0]-2\n",
    "        else:\n",
    "            done = (self.index - self.start_index) >= self.trading_days\n",
    "            \n",
    "        # Prepare observation for next day\n",
    "        self.index += 1\n",
    "        self.observation = self.get_observation()\n",
    "        self.currentdate = self.dates[self.index-1]        \n",
    "\n",
    "        return self.observation, reward, done, {}\n",
    "    \n",
    "    \n",
    "    def reset(self):\n",
    "        self.log_return_series = np.zeros(shape=self.lookback)\n",
    "        self.metric_series = np.zeros(shape=self.lookback)\n",
    "        self.position_series = np.zeros(shape=(self.lookback,self.n_assets))\n",
    "        self.metric = 0    \n",
    "        if self.random_start:\n",
    "            num_days = len(self.dates)      \n",
    "            self.start_index = np.random.randint(self.lookback, num_days - self.trading_days)\n",
    "            self.index = self.start_index\n",
    "        else:\n",
    "            self.start_index = self.lookback\n",
    "            self.index = self.lookback\n",
    "        self.actions = np.zeros(shape=self.n_assets)\n",
    "        self.observation = self.get_observation()\n",
    "        self.currentdate = self.dates[self.index-1]\n",
    "        return self.observation\n",
    "    \n",
    "    def get_observation(self):\n",
    "        # Can use simple moving average data here \n",
    "        price_lookback = self.featuredata[self.index-self.lookback:self.index,:]\n",
    "        metrics = np.vstack((self.log_return_series[self.index-self.start_index:self.index-self.start_index+self.lookback], \n",
    "                             self.metric_series[self.index-self.start_index:self.index-self.start_index+self.lookback])).transpose()\n",
    "        positions = self.position_series[self.index-self.start_index:self.index-self.start_index+self.lookback]\n",
    "        scaler = StandardScaler()\n",
    "        price_lookback = pd.DataFrame(scaler.fit_transform(price_lookback)).rolling(20,min_periods=1).mean().values\n",
    "        observation = np.concatenate((price_lookback, metrics, positions), axis=1)\n",
    "        return observation.reshape((observation.shape[0], observation.shape[1], 1))\n",
    "    \n",
    "    # 0.05% and spread to model t-cost for institutional portfolios \n",
    "    def transaction_cost(self, new_action, old_action,):\n",
    "        turnover = np.abs(new_action - old_action) \n",
    "        fees = 0.9995 - self.tcostdata[self.index,:]\n",
    "        fees = np.array(list(fees) + [0.9995])\n",
    "        tcost = turnover * np.log(fees)\n",
    "        return tcost \n",
    "\n",
    "\n"
   ]
  },
  {
   "cell_type": "code",
   "execution_count": 89,
   "metadata": {},
   "outputs": [],
   "source": [
    "from ray.rllib.agents.ppo import PPOTrainer, DEFAULT_CONFIG\n",
    "from ray.tune.logger import pretty_print"
   ]
  },
  {
   "cell_type": "code",
   "execution_count": 90,
   "metadata": {},
   "outputs": [],
   "source": [
    "config = DEFAULT_CONFIG.copy()\n",
    "config[\"num_workers\"] = 10\n",
    "config[\"num_envs_per_worker\"] = 2\n",
    "config[\"rollout_fragment_length\"] = 50\n",
    "config[\"train_batch_size\"] = 5000\n",
    "config[\"batch_mode\"] = \"complete_episodes\"\n",
    "config[\"num_sgd_iter\"] = 30\n",
    "config[\"sgd_minibatch_size\"] = 2500\n",
    "config[\"model\"][\"dim\"] = 200\n",
    "config[\"model\"][\"conv_filters\"] = [[16, [5, 1], 5], [16, [5, 1], 5], [16, [5, 1], 5]]\n",
    "config[\n",
    "    \"num_cpus_per_worker\"\n",
    "] = 2  # This avoids running out of resources in the notebook environment when this cell is re-executed\n",
    "config[\"env_config\"] = {\n",
    "    \"pricing_source\": \"csvdata\",\n",
    "    \"tickers\": [\n",
    "        \"GOLD_\",\n",
    "        \"AAPL_\",\n",
    "    ],\n",
    "    \"lookback\": 200,\n",
    "    \"start\": \"1995-01-02\",\n",
    "    \"end\": \"2019-12-31\",\n",
    "    \"features\": [\n",
    "        \"return_volatility_20\",\n",
    "        \"return_skewness_20\",\n",
    "        \"adjvolume_volatility_20\",\n",
    "    ],\n",
    "    \"random_start\": False,\n",
    "    \"trading_days\": None,\n",
    "}"
   ]
  },
  {
   "cell_type": "code",
   "execution_count": 91,
   "metadata": {},
   "outputs": [
    {
     "name": "stderr",
     "output_type": "stream",
     "text": [
      "2020-12-02 17:00:31,978\tWARNING util.py:39 -- Install gputil for GPU system monitoring.\n"
     ]
    }
   ],
   "source": [
    "PPO_agent = PPOTrainer(config, Equitydaily)"
   ]
  },
  {
   "cell_type": "code",
   "execution_count": 92,
   "metadata": {},
   "outputs": [
    {
     "name": "stderr",
     "output_type": "stream",
     "text": [
      "2020-12-02 17:00:37,968\tWARNING worker.py:1072 -- The actor or task with ID ffffffffffffffff11d7f98301000000 is pending and cannot currently be scheduled. It requires {CPU: 2.000000} for execution and {CPU: 2.000000} for placement, but this node only has remaining {node:155.198.195.98: 1.000000}, {memory: 56.103516 GiB}, {object_store_memory: 19.335938 GiB}. In total there are 0 pending tasks and 6 pending actors on this node. This is likely due to all cluster resources being claimed by actors. To resolve the issue, consider creating fewer actors or increase the resources available to this Ray cluster. You can ignore this message if this Ray cluster is expected to auto-scale.\n",
      "2020-12-02 17:00:38,622\tINFO (unknown file):0 -- gc.collect() freed 46414 refs in 0.5624420363456011 seconds\n"
     ]
    }
   ],
   "source": [
    "env = Equitydaily(config[\"env_config\"] )"
   ]
  },
  {
   "cell_type": "code",
   "execution_count": 148,
   "metadata": {},
   "outputs": [
    {
     "name": "stderr",
     "output_type": "stream",
     "text": [
      "2020-12-03 18:15:29,825\tINFO trainable.py:481 -- Restored on 155.198.195.98 from checkpoint: ppoagent200/checkpoint_377/checkpoint-377\n",
      "2020-12-03 18:15:29,826\tINFO trainable.py:489 -- Current state after restoring: {'_iteration': 377, '_timesteps_total': None, '_time_total': 8570.495174884796, '_episodes_total': 11310}\n"
     ]
    }
   ],
   "source": [
    "PPO_agent.restore('ppoagent200/checkpoint_377/checkpoint-377')"
   ]
  },
  {
   "cell_type": "code",
   "execution_count": 149,
   "metadata": {},
   "outputs": [],
   "source": [
    "state = env.reset()\n",
    "done = False\n",
    "reward_list = []\n",
    "cum_reward = 0\n",
    "actions = list()\n",
    "\n",
    "while not done:\n",
    "    action = PPO_agent.compute_action(state,explore=False)\n",
    "    #action = np.array([1,1,1,1,1,1,0])\n",
    "    state, reward, done, _ = env.step(action)\n",
    "    cum_reward += reward\n",
    "    actions.append(action)\n",
    "    reward_list.append(reward)\n"
   ]
  },
  {
   "cell_type": "code",
   "execution_count": 150,
   "metadata": {},
   "outputs": [
    {
     "data": {
      "text/plain": [
       "<matplotlib.axes._subplots.AxesSubplot at 0x7fbb5ff91310>"
      ]
     },
     "execution_count": 150,
     "metadata": {},
     "output_type": "execute_result"
    },
    {
     "data": {
      "image/png": "[encoded data removed]",
      "text/plain": [
       "<Figure size 432x288 with 1 Axes>"
      ]
     },
     "metadata": {
      "needs_background": "light"
     },
     "output_type": "display_data"
    }
   ],
   "source": [
    "returns = pd.Series(env.log_return_series)\n",
    "returns.index = env.dates[:-1]\n",
    "returns.cumsum().loc['2016-01-01':].plot()"
   ]
  },
  {
   "cell_type": "code",
   "execution_count": 151,
   "metadata": {},
   "outputs": [
    {
     "data": {
      "text/plain": [
       "<matplotlib.axes._subplots.AxesSubplot at 0x7fbb5fe846a0>"
      ]
     },
     "execution_count": 151,
     "metadata": {},
     "output_type": "execute_result"
    },
    {
     "data": {
      "image/png": "[encoded data removed]",
      "text/plain": [
       "<Figure size 432x288 with 1 Axes>"
      ]
     },
     "metadata": {
      "needs_background": "light"
     },
     "output_type": "display_data"
    }
   ],
   "source": [
    "returns = pd.Series(env.log_return_series)\n",
    "returns.index = env.dates[:-1]\n",
    "returns.cumsum().loc['1992-01-01':'2015-01-01'].plot()"
   ]
  },
  {
   "cell_type": "code",
   "execution_count": 152,
   "metadata": {},
   "outputs": [
    {
     "data": {
      "text/plain": [
       "<matplotlib.axes._subplots.AxesSubplot at 0x7fbb5fe09ac0>"
      ]
     },
     "execution_count": 152,
     "metadata": {},
     "output_type": "execute_result"
    },
    {
     "data": {
      "image/png": "[encoded data removed]",
      "text/plain": [
       "<Figure size 432x288 with 1 Axes>"
      ]
     },
     "metadata": {
      "needs_background": "light"
     },
     "output_type": "display_data"
    }
   ],
   "source": [
    "returns = pd.Series(env.metric_series)\n",
    "returns.index = env.dates[:-1]\n",
    "returns.cumsum().loc['2016-01-01':].plot()"
   ]
  },
  {
   "cell_type": "code",
   "execution_count": 153,
   "metadata": {},
   "outputs": [
    {
     "data": {
      "text/html": [
       "<div>\n",
       "<style scoped>\n",
       "    .dataframe tbody tr th:only-of-type {\n",
       "        vertical-align: middle;\n",
       "    }\n",
       "\n",
       "    .dataframe tbody tr th {\n",
       "        vertical-align: top;\n",
       "    }\n",
       "\n",
       "    .dataframe thead th {\n",
       "        text-align: right;\n",
       "    }\n",
       "</style>\n",
       "<table border=\"1\" class=\"dataframe\">\n",
       "  <thead>\n",
       "    <tr style=\"text-align: right;\">\n",
       "      <th></th>\n",
       "      <th>GOLD_</th>\n",
       "      <th>AAPL_</th>\n",
       "      <th>Cash</th>\n",
       "    </tr>\n",
       "    <tr>\n",
       "      <th>datetime</th>\n",
       "      <th></th>\n",
       "      <th></th>\n",
       "      <th></th>\n",
       "    </tr>\n",
       "  </thead>\n",
       "  <tbody>\n",
       "    <tr>\n",
       "      <th>1995-01-03</th>\n",
       "      <td>0.000000</td>\n",
       "      <td>0.000000</td>\n",
       "      <td>0.000000</td>\n",
       "    </tr>\n",
       "    <tr>\n",
       "      <th>1995-01-04</th>\n",
       "      <td>0.000000</td>\n",
       "      <td>0.000000</td>\n",
       "      <td>0.000000</td>\n",
       "    </tr>\n",
       "    <tr>\n",
       "      <th>1995-01-05</th>\n",
       "      <td>0.000000</td>\n",
       "      <td>0.000000</td>\n",
       "      <td>0.000000</td>\n",
       "    </tr>\n",
       "    <tr>\n",
       "      <th>1995-01-06</th>\n",
       "      <td>0.000000</td>\n",
       "      <td>0.000000</td>\n",
       "      <td>0.000000</td>\n",
       "    </tr>\n",
       "    <tr>\n",
       "      <th>1995-01-09</th>\n",
       "      <td>0.000000</td>\n",
       "      <td>0.000000</td>\n",
       "      <td>0.000000</td>\n",
       "    </tr>\n",
       "    <tr>\n",
       "      <th>...</th>\n",
       "      <td>...</td>\n",
       "      <td>...</td>\n",
       "      <td>...</td>\n",
       "    </tr>\n",
       "    <tr>\n",
       "      <th>2019-12-23</th>\n",
       "      <td>0.185589</td>\n",
       "      <td>0.530075</td>\n",
       "      <td>-0.284336</td>\n",
       "    </tr>\n",
       "    <tr>\n",
       "      <th>2019-12-24</th>\n",
       "      <td>0.185589</td>\n",
       "      <td>0.530075</td>\n",
       "      <td>-0.284336</td>\n",
       "    </tr>\n",
       "    <tr>\n",
       "      <th>2019-12-26</th>\n",
       "      <td>0.185589</td>\n",
       "      <td>0.530075</td>\n",
       "      <td>-0.284336</td>\n",
       "    </tr>\n",
       "    <tr>\n",
       "      <th>2019-12-27</th>\n",
       "      <td>0.185589</td>\n",
       "      <td>0.530075</td>\n",
       "      <td>-0.284336</td>\n",
       "    </tr>\n",
       "    <tr>\n",
       "      <th>2019-12-30</th>\n",
       "      <td>-0.071970</td>\n",
       "      <td>0.645106</td>\n",
       "      <td>-0.282924</td>\n",
       "    </tr>\n",
       "  </tbody>\n",
       "</table>\n",
       "<p>6293 rows × 3 columns</p>\n",
       "</div>"
      ],
      "text/plain": [
       "               GOLD_     AAPL_      Cash\n",
       "datetime                                \n",
       "1995-01-03  0.000000  0.000000  0.000000\n",
       "1995-01-04  0.000000  0.000000  0.000000\n",
       "1995-01-05  0.000000  0.000000  0.000000\n",
       "1995-01-06  0.000000  0.000000  0.000000\n",
       "1995-01-09  0.000000  0.000000  0.000000\n",
       "...              ...       ...       ...\n",
       "2019-12-23  0.185589  0.530075 -0.284336\n",
       "2019-12-24  0.185589  0.530075 -0.284336\n",
       "2019-12-26  0.185589  0.530075 -0.284336\n",
       "2019-12-27  0.185589  0.530075 -0.284336\n",
       "2019-12-30 -0.071970  0.645106 -0.282924\n",
       "\n",
       "[6293 rows x 3 columns]"
      ]
     },
     "execution_count": 153,
     "metadata": {},
     "output_type": "execute_result"
    }
   ],
   "source": [
    "position = pd.DataFrame(env.position_series)\n",
    "position.index = env.dates[:-1]\n",
    "position.columns = env.tickers + ['Cash']\n",
    "position"
   ]
  },
  {
   "cell_type": "code",
   "execution_count": 154,
   "metadata": {},
   "outputs": [
    {
     "data": {
      "text/plain": [
       "<matplotlib.axes._subplots.AxesSubplot at 0x7fbb5fde5520>"
      ]
     },
     "execution_count": 154,
     "metadata": {},
     "output_type": "execute_result"
    },
    {
     "data": {
      "image/png": "[encoded data removed]",
      "text/plain": [
       "<Figure size 432x288 with 1 Axes>"
      ]
     },
     "metadata": {
      "needs_background": "light"
     },
     "output_type": "display_data"
    },
    {
     "name": "stderr",
     "output_type": "stream",
     "text": [
      "2020-12-03 18:16:15,001\tINFO (unknown file):0 -- gc.collect() freed 16 refs in 0.40640533715486526 seconds\n"
     ]
    }
   ],
   "source": [
    "position['AAPL_'].plot()"
   ]
  },
  {
   "cell_type": "code",
   "execution_count": null,
   "metadata": {},
   "outputs": [],
   "source": []
  },
  {
   "cell_type": "code",
   "execution_count": null,
   "metadata": {},
   "outputs": [],
   "source": []
  },
  {
   "cell_type": "code",
   "execution_count": null,
   "metadata": {},
   "outputs": [],
   "source": []
  },
  {
   "cell_type": "code",
   "execution_count": null,
   "metadata": {},
   "outputs": [],
   "source": []
  },
  {
   "cell_type": "markdown",
   "metadata": {},
   "source": [
    "SAC"
   ]
  },
  {
   "cell_type": "code",
   "execution_count": 109,
   "metadata": {},
   "outputs": [],
   "source": [
    "from ray.rllib.agents.sac import SACTrainer, DEFAULT_CONFIG\n",
    "from ray.tune.logger import pretty_print"
   ]
  },
  {
   "cell_type": "code",
   "execution_count": 120,
   "metadata": {},
   "outputs": [],
   "source": [
    "config = DEFAULT_CONFIG.copy()\n",
    "config[\"num_workers\"] = 10\n",
    "config[\"num_envs_per_worker\"] = 5\n",
    "config[\"num_cpus_per_worker\"] = 2  # This avoids running out of resources in the notebook environment when this cell is re-executed\n",
    "\n",
    "config[\"rollout_fragment_length\"] = 20\n",
    "config[\"train_batch_size\"] = 2500\n",
    "config[\"batch_mode\"] = \"complete_episodes\"\n",
    "\n",
    "config[\"gamma\"] = 0.3\n",
    "config[\"lr\"] = 0.0001\n",
    "\n",
    "\n",
    "config[\"learning_starts\"] = 100\n",
    "config[\"timesteps_per_iteration\"] = 50\n",
    "config[\"n_step\"] = 5\n",
    "\n",
    "config[\"model\"][\"conv_filters\"] = [[16, [5, 1], 5], [16, [5, 1], 5], [16, [5, 1], 5]]\n",
    "\n",
    "config[\"Q_model\"][\"fcnet_hiddens\"] = [64, 64]\n",
    "config[\"policy_model\"][\"fcnet_hiddens\"] = [64, 64]\n",
    "\n",
    "config[\"env_config\"] = {\n",
    "    \"pricing_source\": \"csvdata\",\n",
    "    \"tickers\": [\n",
    "        \"GOLD_\",\n",
    "        \"AAPL_\",\n",
    "    ],\n",
    "    \"lookback\": 200,\n",
    "    \"start\": \"1995-01-02\",\n",
    "    \"end\": \"2019-12-31\",\n",
    "    \"features\": [\n",
    "        \"return_volatility_20\",\n",
    "        \"return_skewness_20\",\n",
    "        \"adjvolume_volatility_20\",\n",
    "    ],\n",
    "    \"random_start\": False,\n",
    "    \"trading_days\": None,\n",
    "}\n",
    "\n"
   ]
  },
  {
   "cell_type": "code",
   "execution_count": 191,
   "metadata": {},
   "outputs": [],
   "source": [
    "def load_data(\n",
    "    price_source: str,\n",
    "    tickers: typing.List[str],\n",
    "    start: datetime,\n",
    "    end: datetime,\n",
    "    features: typing.List[str],\n",
    "):\n",
    "    \"\"\"Returned price data to use in gym environment\"\"\"\n",
    "    # Load data\n",
    "    # Each dataframe will have columns date and a collection of fields\n",
    "    # TODO: DataLoader from mongoDB\n",
    "    # Raw price from DB, forward impute on the trading days for missing date\n",
    "    # calculate the features (log return, volatility)\n",
    "    if price_source in [\"csvdata\"]:\n",
    "        feature_df = []\n",
    "        for t in tickers:\n",
    "            df1 = pd.read_csv(\"csvdata/{}.csv\".format(t))\n",
    "            df1[\"datetime\"] = pd.to_datetime(df1[\"datetime\"])\n",
    "            df1 = df1[(df1[\"datetime\"] >= start) & (df1[\"datetime\"] <= end)]\n",
    "            df1.set_index(\"datetime\", inplace=True)\n",
    "            selected_features = [\"return\", \"tcost\"] + features\n",
    "            feature_df.append(df1[selected_features])\n",
    "            ref_df_columns = df1[selected_features].columns\n",
    "\n",
    "    # assume all the price_df are aligned and cleaned in the DataLoader\n",
    "    merged_df = pd.concat(feature_df, axis=1, join=\"outer\")\n",
    "    # Imputer missing values with zeros\n",
    "    price_tensor = merged_df[\"return\"].fillna(0.0).values\n",
    "    tcost = merged_df[\"tcost\"].fillna(0.0).values\n",
    "\n",
    "    return {\n",
    "        \"dates\": merged_df.index,\n",
    "        \"fields\": ref_df_columns,\n",
    "        \"data\": merged_df.fillna(0.0).values,\n",
    "        \"pricedata\": price_tensor,\n",
    "        \"tcost\": tcost,\n",
    "    }\n",
    "\n",
    "\n",
    "from empyrical import max_drawdown, alpha_beta, sharpe_ratio, annual_return\n",
    "from sklearn.preprocessing import StandardScaler \n",
    "\n",
    "class Equitydaily(gym.Env):\n",
    "\n",
    "    def __init__(self,env_config):\n",
    "        \n",
    "        self.tickers = env_config['tickers']\n",
    "        self.lookback = env_config['lookback']\n",
    "        self.random_start = env_config['random_start']\n",
    "        self.trading_days = env_config['trading_days'] # Number of days the algorithm runs before resetting\n",
    "        # Load price data, to be replaced by DataLoader class\n",
    "        raw_data = load_data(env_config['pricing_source'],env_config['tickers'],env_config['start'],env_config['end'],env_config['features'])\n",
    "        # Set the trading dates, features and price data \n",
    "        self.dates = raw_data['dates']\n",
    "        self.fields = raw_data['fields']\n",
    "        self.pricedata = raw_data['pricedata']\n",
    "        self.featuredata = raw_data['data']\n",
    "        self.tcostdata = raw_data['tcost']\n",
    "        # Set up historical actions and rewards \n",
    "        self.n_assets = len(self.tickers) + 1\n",
    "        self.n_metrics = 2 \n",
    "        self.n_assets_fields = len(self.fields)\n",
    "        self.n_features = self.n_assets_fields * len(self.tickers) + self.n_assets + self.n_metrics # reward function\n",
    "        #self.n_features = self.n_assets_fields * len(self.tickers)\n",
    "        \n",
    "        # Set up action and observation space\n",
    "        # The last asset is cash \n",
    "        self.action_space = spaces.Box(low=-1, high=1, shape=(len(self.tickers)+1,), dtype=np.float32)\n",
    "        self.observation_space = spaces.Box(low=-np.inf, high=np.inf,\n",
    "                                            shape=(self.lookback,self.n_features,1), dtype=np.float32)\n",
    "\n",
    "        self.reset()\n",
    "\n",
    "    def step(self, action):\n",
    "        \n",
    "        # Trade on Friday \n",
    "        # Normalise action space \n",
    "        if self.currentdate.weekday() <= 4:\n",
    "            normalised_action = action / np.sum(np.abs(action))\n",
    "            self.actions = normalised_action\n",
    "        \n",
    "        done = False\n",
    "        # Rebalance portfolio at close using return of the next date\n",
    "        next_day_log_return = self.pricedata[self.index,:]\n",
    "        # transaction cost \n",
    "        transaction_cost = self.transaction_cost(self.actions,self.position_series[-1])\n",
    "        \n",
    "        # Rebalancing \n",
    "        self.position_series = np.append(self.position_series, [self.actions], axis=0)\n",
    "        # Portfolio return \n",
    "        today_portfolio_return = np.sum(self.actions[:-1] * next_day_log_return) + np.sum(transaction_cost)\n",
    "        self.log_return_series = np.append(self.log_return_series, [today_portfolio_return], axis=0)\n",
    "        \n",
    "        \n",
    "        # Calculate reward \n",
    "        # Need to cast log_return in pd series to use the functions in empyrical \n",
    "        recent_series = pd.Series(self.log_return_series)[-100:]\n",
    "        rolling_volatility = np.std(recent_series)\n",
    "        if rolling_volatility > 0:\n",
    "            self.metric = today_portfolio_return / rolling_volatility \n",
    "        else:\n",
    "            self.metric = 0\n",
    "        reward = self.metric\n",
    "        self.metric_series = np.append(self.metric_series, [self.metric], axis=0)\n",
    "        \n",
    "        # Check if the end of backtest\n",
    "        if self.trading_days is None:\n",
    "            done = self.index >= self.pricedata.shape[0]-2\n",
    "        else:\n",
    "            done = (self.index - self.start_index) >= self.trading_days\n",
    "            \n",
    "        # Prepare observation for next day\n",
    "        self.index += 1\n",
    "        self.observation = self.get_observation()\n",
    "        self.currentdate = self.dates[self.index-1]        \n",
    "\n",
    "        return self.observation, reward, done, {}\n",
    "    \n",
    "    \n",
    "    def reset(self):\n",
    "        self.log_return_series = np.zeros(shape=self.lookback)\n",
    "        self.metric_series = np.zeros(shape=self.lookback)\n",
    "        self.position_series = np.zeros(shape=(self.lookback,self.n_assets))\n",
    "        self.metric = 0    \n",
    "        if self.random_start:\n",
    "            num_days = len(self.dates)      \n",
    "            self.start_index = np.random.randint(self.lookback, num_days - self.trading_days)\n",
    "            self.index = self.start_index\n",
    "        else:\n",
    "            self.start_index = self.lookback\n",
    "            self.index = self.lookback\n",
    "        self.actions = np.zeros(shape=self.n_assets)\n",
    "        self.observation = self.get_observation()\n",
    "        self.currentdate = self.dates[self.index-1]\n",
    "        return self.observation\n",
    "    \n",
    "    def get_observation(self):\n",
    "        # Can use simple moving average data here \n",
    "        price_lookback = self.featuredata[self.index-self.lookback:self.index,:]\n",
    "        metrics = np.vstack((self.log_return_series[self.index-self.start_index:self.index-self.start_index+self.lookback], \n",
    "                             self.metric_series[self.index-self.start_index:self.index-self.start_index+self.lookback])).transpose()\n",
    "        positions = self.position_series[self.index-self.start_index:self.index-self.start_index+self.lookback]\n",
    "        scaler = StandardScaler()\n",
    "        price_lookback = pd.DataFrame(scaler.fit_transform(price_lookback)).rolling(20,min_periods=1).mean().values\n",
    "        observation = np.concatenate((price_lookback, metrics, positions), axis=1)\n",
    "        return observation.reshape((observation.shape[0], observation.shape[1], 1))\n",
    "    \n",
    "    # 0.05% and spread to model t-cost for institutional portfolios \n",
    "    def transaction_cost(self, new_action, old_action,):\n",
    "        turnover = np.abs(new_action - old_action) \n",
    "        fees = 0.9995 - self.tcostdata[self.index,:]\n",
    "        fees = np.array(list(fees) + [0.9995])\n",
    "        tcost = turnover * np.log(fees)\n",
    "        return tcost \n"
   ]
  },
  {
   "cell_type": "code",
   "execution_count": 192,
   "metadata": {},
   "outputs": [
    {
     "name": "stderr",
     "output_type": "stream",
     "text": [
      "2020-12-04 12:07:34,888\tWARNING sac_tf_policy.py:36 -- When not using a state-preprocessor with SAC, `fcnet_hiddens` will be set to an empty list! Any hidden layer sizes are defined via `policy_model.fcnet_hiddens` and `Q_model.fcnet_hiddens`.\n",
      "2020-12-04 12:07:37,758\tWARNING util.py:39 -- Install gputil for GPU system monitoring.\n"
     ]
    }
   ],
   "source": [
    "SAC_agent = SACTrainer(config, Equitydaily)"
   ]
  },
  {
   "cell_type": "code",
   "execution_count": 193,
   "metadata": {},
   "outputs": [],
   "source": [
    "env = Equitydaily(config[\"env_config\"])"
   ]
  },
  {
   "cell_type": "code",
   "execution_count": 194,
   "metadata": {},
   "outputs": [
    {
     "name": "stderr",
     "output_type": "stream",
     "text": [
      "2020-12-04 12:07:37,977\tINFO trainable.py:481 -- Restored on 155.198.195.98 from checkpoint: sacagent200/checkpoint_11251/checkpoint-11251\n",
      "2020-12-04 12:07:37,978\tINFO trainable.py:489 -- Current state after restoring: {'_iteration': 11251, '_timesteps_total': None, '_time_total': 56049.03558468819, '_episodes_total': 112510}\n"
     ]
    }
   ],
   "source": [
    "SAC_agent.restore('sacagent200/checkpoint_11251/checkpoint-11251')"
   ]
  },
  {
   "cell_type": "code",
   "execution_count": 195,
   "metadata": {},
   "outputs": [
    {
     "name": "stderr",
     "output_type": "stream",
     "text": [
      "2020-12-04 12:07:43,535\tINFO (unknown file):0 -- gc.collect() freed 28686 refs in 0.716357046738267 seconds\n"
     ]
    }
   ],
   "source": [
    "state = env.reset()\n",
    "done = False\n",
    "reward_list = []\n",
    "cum_reward = 0\n",
    "actions = list()\n",
    "\n",
    "while not done:\n",
    "    action = SAC_agent.compute_action(state,explore=False)\n",
    "    #action = np.array([0,0,0,0,0,0,1])\n",
    "    state, reward, done, _ = env.step(action)\n",
    "    cum_reward += reward\n",
    "    actions.append(action)\n",
    "    reward_list.append(reward)\n",
    "\n"
   ]
  },
  {
   "cell_type": "code",
   "execution_count": 196,
   "metadata": {},
   "outputs": [
    {
     "data": {
      "text/plain": [
       "<matplotlib.axes._subplots.AxesSubplot at 0x7fbb6c167be0>"
      ]
     },
     "execution_count": 196,
     "metadata": {},
     "output_type": "execute_result"
    },
    {
     "data": {
      "image/png": "[encoded data removed]",
      "text/plain": [
       "<Figure size 432x288 with 1 Axes>"
      ]
     },
     "metadata": {
      "needs_background": "light"
     },
     "output_type": "display_data"
    }
   ],
   "source": [
    "returns = pd.Series(env.log_return_series)\n",
    "returns.index = env.dates[:-1]\n",
    "returns.cumsum().loc['2016-01-01':].plot()"
   ]
  },
  {
   "cell_type": "code",
   "execution_count": 197,
   "metadata": {},
   "outputs": [
    {
     "data": {
      "text/plain": [
       "<matplotlib.axes._subplots.AxesSubplot at 0x7fbb6cc4a190>"
      ]
     },
     "execution_count": 197,
     "metadata": {},
     "output_type": "execute_result"
    },
    {
     "data": {
      "image/png": "[encoded data removed]",
      "text/plain": [
       "<Figure size 432x288 with 1 Axes>"
      ]
     },
     "metadata": {
      "needs_background": "light"
     },
     "output_type": "display_data"
    }
   ],
   "source": [
    "returns = pd.Series(env.log_return_series)\n",
    "returns.index = env.dates[:-1]\n",
    "returns.cumsum().loc['1992-01-01':'2015-01-01'].plot()"
   ]
  },
  {
   "cell_type": "code",
   "execution_count": 198,
   "metadata": {},
   "outputs": [
    {
     "data": {
      "text/html": [
       "<div>\n",
       "<style scoped>\n",
       "    .dataframe tbody tr th:only-of-type {\n",
       "        vertical-align: middle;\n",
       "    }\n",
       "\n",
       "    .dataframe tbody tr th {\n",
       "        vertical-align: top;\n",
       "    }\n",
       "\n",
       "    .dataframe thead th {\n",
       "        text-align: right;\n",
       "    }\n",
       "</style>\n",
       "<table border=\"1\" class=\"dataframe\">\n",
       "  <thead>\n",
       "    <tr style=\"text-align: right;\">\n",
       "      <th></th>\n",
       "      <th>GOLD_</th>\n",
       "      <th>AAPL_</th>\n",
       "      <th>Cash</th>\n",
       "    </tr>\n",
       "    <tr>\n",
       "      <th>datetime</th>\n",
       "      <th></th>\n",
       "      <th></th>\n",
       "      <th></th>\n",
       "    </tr>\n",
       "  </thead>\n",
       "  <tbody>\n",
       "    <tr>\n",
       "      <th>1995-01-03</th>\n",
       "      <td>0.000000</td>\n",
       "      <td>0.000000</td>\n",
       "      <td>0.000000</td>\n",
       "    </tr>\n",
       "    <tr>\n",
       "      <th>1995-01-04</th>\n",
       "      <td>0.000000</td>\n",
       "      <td>0.000000</td>\n",
       "      <td>0.000000</td>\n",
       "    </tr>\n",
       "    <tr>\n",
       "      <th>1995-01-05</th>\n",
       "      <td>0.000000</td>\n",
       "      <td>0.000000</td>\n",
       "      <td>0.000000</td>\n",
       "    </tr>\n",
       "    <tr>\n",
       "      <th>1995-01-06</th>\n",
       "      <td>0.000000</td>\n",
       "      <td>0.000000</td>\n",
       "      <td>0.000000</td>\n",
       "    </tr>\n",
       "    <tr>\n",
       "      <th>1995-01-09</th>\n",
       "      <td>0.000000</td>\n",
       "      <td>0.000000</td>\n",
       "      <td>0.000000</td>\n",
       "    </tr>\n",
       "    <tr>\n",
       "      <th>...</th>\n",
       "      <td>...</td>\n",
       "      <td>...</td>\n",
       "      <td>...</td>\n",
       "    </tr>\n",
       "    <tr>\n",
       "      <th>2019-12-23</th>\n",
       "      <td>-0.494411</td>\n",
       "      <td>-0.469243</td>\n",
       "      <td>-0.036346</td>\n",
       "    </tr>\n",
       "    <tr>\n",
       "      <th>2019-12-24</th>\n",
       "      <td>-0.726764</td>\n",
       "      <td>-0.256089</td>\n",
       "      <td>-0.017147</td>\n",
       "    </tr>\n",
       "    <tr>\n",
       "      <th>2019-12-26</th>\n",
       "      <td>-0.536967</td>\n",
       "      <td>-0.432540</td>\n",
       "      <td>-0.030493</td>\n",
       "    </tr>\n",
       "    <tr>\n",
       "      <th>2019-12-27</th>\n",
       "      <td>0.054635</td>\n",
       "      <td>0.926390</td>\n",
       "      <td>-0.018975</td>\n",
       "    </tr>\n",
       "    <tr>\n",
       "      <th>2019-12-30</th>\n",
       "      <td>0.309139</td>\n",
       "      <td>0.657519</td>\n",
       "      <td>0.033341</td>\n",
       "    </tr>\n",
       "  </tbody>\n",
       "</table>\n",
       "<p>6293 rows × 3 columns</p>\n",
       "</div>"
      ],
      "text/plain": [
       "               GOLD_     AAPL_      Cash\n",
       "datetime                                \n",
       "1995-01-03  0.000000  0.000000  0.000000\n",
       "1995-01-04  0.000000  0.000000  0.000000\n",
       "1995-01-05  0.000000  0.000000  0.000000\n",
       "1995-01-06  0.000000  0.000000  0.000000\n",
       "1995-01-09  0.000000  0.000000  0.000000\n",
       "...              ...       ...       ...\n",
       "2019-12-23 -0.494411 -0.469243 -0.036346\n",
       "2019-12-24 -0.726764 -0.256089 -0.017147\n",
       "2019-12-26 -0.536967 -0.432540 -0.030493\n",
       "2019-12-27  0.054635  0.926390 -0.018975\n",
       "2019-12-30  0.309139  0.657519  0.033341\n",
       "\n",
       "[6293 rows x 3 columns]"
      ]
     },
     "execution_count": 198,
     "metadata": {},
     "output_type": "execute_result"
    },
    {
     "name": "stderr",
     "output_type": "stream",
     "text": [
      "2020-12-04 12:08:23,634\tINFO (unknown file):0 -- gc.collect() freed 36 refs in 0.6780589707195759 seconds\n"
     ]
    }
   ],
   "source": [
    "position = pd.DataFrame(env.position_series)\n",
    "position.index = env.dates[:-1]\n",
    "position.columns = env.tickers + ['Cash']\n",
    "position"
   ]
  },
  {
   "cell_type": "code",
   "execution_count": null,
   "metadata": {},
   "outputs": [],
   "source": []
  },
  {
   "cell_type": "code",
   "execution_count": null,
   "metadata": {},
   "outputs": [],
   "source": []
  },
  {
   "cell_type": "code",
   "execution_count": null,
   "metadata": {},
   "outputs": [],
   "source": []
  },
  {
   "cell_type": "code",
   "execution_count": null,
   "metadata": {},
   "outputs": [],
   "source": []
  },
  {
   "cell_type": "markdown",
   "metadata": {},
   "source": [
    "SAC with a reward function of the diff between cumulative returns "
   ]
  },
  {
   "cell_type": "code",
   "execution_count": 4,
   "metadata": {},
   "outputs": [
    {
     "name": "stdout",
     "output_type": "stream",
     "text": [
      "WARNING:tensorflow:From /home/thomas/anaconda3/lib/python3.8/site-packages/tensorflow/python/compat/v2_compat.py:96: disable_resource_variables (from tensorflow.python.ops.variable_scope) is deprecated and will be removed in a future version.\n",
      "Instructions for updating:\n",
      "non-resource variables are not supported in the long term\n"
     ]
    }
   ],
   "source": [
    "from ray.rllib.agents.sac import SACTrainer, DEFAULT_CONFIG\n",
    "from ray.tune.logger import pretty_print"
   ]
  },
  {
   "cell_type": "code",
   "execution_count": 5,
   "metadata": {},
   "outputs": [],
   "source": [
    "config = DEFAULT_CONFIG.copy()\n",
    "config['num_workers'] = 1\n",
    "config[\"num_envs_per_worker\"] = 1\n",
    "\n",
    "config[\"rollout_fragment_length\"] = 10\n",
    "config[\"train_batch_size\"] = 250\n",
    "config[\"timesteps_per_iteration\"] = 1000\n",
    "config[\"buffer_size\"] = 20000\n",
    "config[\"n_step\"] = 10\n",
    "\n",
    "config['Q_model']['fcnet_hiddens'] = [50, 50]\n",
    "config['policy_model']['fcnet_hiddens'] = [50, 50]\n",
    "config['num_cpus_per_worker'] = 2  # This avoids running out of resources in the notebook environment when this cell is re-executed\n",
    "config['env_config'] = {'pricing_source':'Alpaca_Equity_daily', 'tickers':['SPY','QQQ','SHY','GLD','TLT','LQD'], 'lookback':200, 'start':'2008-01-02', 'end':'2018-12-31'}"
   ]
  },
  {
   "cell_type": "code",
   "execution_count": 75,
   "metadata": {},
   "outputs": [],
   "source": [
    "\n",
    "def load_data(price_source='Alpaca_Equity_daily',tickers=['SPY','QQQ'],start='2008-01-02',end='2010-01-02'):\n",
    "    '''Returned price data to use in gym environment'''\n",
    "    ## Load data \n",
    "    ## Each dataframe will have columns date and a collection of fields \n",
    "    if price_source in ['Alpaca_Equity_daily', 'Alpaca_Equity_minute', 'Quandl_Futures_daily']:\n",
    "        price_df = []\n",
    "        a = Arctic('localhost')\n",
    "        lib = a[price_source]\n",
    "        for t in tickers:\n",
    "            df1 = lib.read(t).set_index('date').loc[start:end]\n",
    "            price_df.append(df1[['Open','Volume']])\n",
    "    if price_source in ['csvdata']:\n",
    "        price_df = []\n",
    "        for t in tickers:\n",
    "            df1 = pd.read_csv('csvdata/{}.csv'.format(t)).set_index('date').loc[start:end]\n",
    "            price_df.append(df1)\n",
    "    ## Merge data \n",
    "    ## Reference dataframe is taken from the first ticker read where the column labels are assumed to be the same\n",
    "    if len(price_df) > 0:\n",
    "        ref_df = price_df[0]\n",
    "        ref_df_columns = price_df[0].columns\n",
    "        for i in range(1,len(price_df)):\n",
    "            ref_df = ref_df.merge(price_df[i], how='outer', on='date',)\n",
    "        merged_df = ref_df.sort_values(by='date').fillna(0)\n",
    "    ## Prepare price tensor for observation space \n",
    "    price_tensor = np.zeros(shape=(merged_df.shape[0],len(ref_df_columns),len(price_df)))\n",
    "    for count in range(len(price_df)):\n",
    "        price_tensor[:,:,count] = merged_df.values[:,len(ref_df_columns)*count:len(ref_df_columns)*(count+1)]\n",
    "    \n",
    "    return {'dates':merged_df.index, 'fields':ref_df_columns, 'data':price_tensor }\n",
    "\n",
    "\n",
    "class Equitydaily(gym.Env):\n",
    "\n",
    "    def __init__(self,env_config):\n",
    "        \n",
    "        self.tickers = env_config['tickers']\n",
    "        self.lookback = env_config['lookback']\n",
    "        # Load price data\n",
    "        price_data = load_data(env_config['pricing_source'],env_config['tickers'],env_config['start'],env_config['end'])\n",
    "        self.dates = price_data['dates']\n",
    "        self.fields = price_data['fields']\n",
    "        self.pricedata = price_data['data']\n",
    "        # Set up historical actions and rewards \n",
    "        self.n_assets = len(self.tickers) + 1\n",
    "        self.n_metrics = 2 \n",
    "        self.n_features = len(self.fields) * len(self.tickers) + self.n_assets + self.n_metrics # reward function\n",
    "        \n",
    "        # Set up action and observation space\n",
    "        # The last asset is cash \n",
    "        self.action_space = spaces.Box(low=-1, high=1, shape=(len(self.tickers)+1,), dtype=np.float32)\n",
    "        self.observation_space = spaces.Box(low=-np.inf, high=np.inf,\n",
    "                                            shape=(self.lookback,self.n_features), dtype=np.float32)\n",
    "\n",
    "        self.reset()\n",
    "\n",
    "        \n",
    "\n",
    "    def step(self, action):\n",
    "        \n",
    "        ## Normalise action space \n",
    "        action = action / np.sum(np.abs(action))\n",
    "        \n",
    "        done = False\n",
    "        # Rebalance portfolio at open, use log return of open price in the following day \n",
    "        next_day_log_return = self.pricedata[self.index+1,0,:]\n",
    "        # transaction cost \n",
    "        transaction_cost = self.transaction_cost(action,self.position_series[-1])\n",
    "        \n",
    "        # Rebalancing \n",
    "        self.position_series = np.append(self.position_series, [action], axis=0)\n",
    "        today_portfolio_return = np.sum(action[:-1] * next_day_log_return) + np.sum(transaction_cost)\n",
    "        self.log_return_series = np.append(self.log_return_series, [today_portfolio_return], axis=0)\n",
    "        \n",
    "        \n",
    "        # Calculate reward \n",
    "        # Need to cast log_return in pd series to use the functions in empyrical \n",
    "        if pd.Series(self.log_return_series).size > 100: \n",
    "            recent_series = pd.Series(self.log_return_series)[-100:]\n",
    "            whole_series = pd.Series(self.log_return_series)\n",
    "            self.metric = annual_return(whole_series) + 0.5* max_drawdown(whole_series)\n",
    "        else:\n",
    "            self.metric = 0\n",
    "        reward = self.metric - self.metric_series[-1]\n",
    "        #reward = self.metric\n",
    "        self.metric_series = np.append(self.metric_series, [self.metric], axis=0)\n",
    "        \n",
    "        # Check if the end of backtest\n",
    "        if self.index >= self.pricedata.shape[0]-2:\n",
    "            done = True\n",
    "            \n",
    "        # Prepare observation for next day\n",
    "        self.index += 1\n",
    "        price_lookback = self.pricedata[self.index-self.lookback:self.index,:,:].reshape(self.lookback,-1)\n",
    "        metrics = np.vstack((self.log_return_series[self.index-self.lookback:self.index], \n",
    "                             self.metric_series[self.index-self.lookback:self.index])).transpose()\n",
    "        self.observation = np.concatenate( (price_lookback,  metrics,\n",
    "                                            self.position_series[self.index-self.lookback:self.index]), axis=1)\n",
    "            \n",
    "            \n",
    "        return self.observation, reward, done, {}\n",
    "    \n",
    "    \n",
    "    def reset(self):\n",
    "        \n",
    "        self.log_return_series = np.zeros(shape=self.lookback)\n",
    "        self.metric_series = np.zeros(shape=self.lookback)\n",
    "        self.position_series = np.zeros(shape=(self.lookback,self.n_assets))\n",
    "        \n",
    "        self.metric = 0                    \n",
    "        self.index = self.lookback\n",
    "        # Observation join the price, metric and position \n",
    "        price_lookback = self.pricedata[:self.index,:,:].reshape(self.lookback,-1)\n",
    "        metrics = np.vstack((self.log_return_series, self.metric_series)).transpose()\n",
    "        self.observation = np.concatenate((price_lookback, metrics, self.position_series), axis=1)\n",
    "        \n",
    "        return self.observation\n",
    "    \n",
    "    \n",
    "    def transaction_cost(self,new_action,old_action,):\n",
    "        turnover = np.abs(new_action - old_action) \n",
    "        fees = 0.9995\n",
    "        tcost = turnover * np.log(fees)\n",
    "        return tcost \n"
   ]
  },
  {
   "cell_type": "code",
   "execution_count": 76,
   "metadata": {},
   "outputs": [
    {
     "name": "stderr",
     "output_type": "stream",
     "text": [
      "2020-10-19 13:28:35,902\tWARNING sac_tf_policy.py:36 -- When not using a state-preprocessor with SAC, `fcnet_hiddens` will be set to an empty list! Any hidden layer sizes are defined via `policy_model.fcnet_hiddens` and `Q_model.fcnet_hiddens`.\n",
      "2020-10-19 13:28:38,113\tINFO trainable.py:252 -- Trainable.setup took 75.004 seconds. If your trainable is slow to initialize, consider setting reuse_actors=True to reduce actor creation overheads.\n",
      "2020-10-19 13:28:38,115\tWARNING util.py:39 -- Install gputil for GPU system monitoring.\n"
     ]
    }
   ],
   "source": [
    "\n",
    "# Train agent \n",
    "agent = SACTrainer(config, Equitydaily)"
   ]
  },
  {
   "cell_type": "code",
   "execution_count": 77,
   "metadata": {},
   "outputs": [],
   "source": [
    "env = Equitydaily({'pricing_source':'Alpaca_Equity_daily', 'tickers':['SPY','QQQ','SHY','GLD','TLT','LQD'], 'lookback':200, 'start':'2008-01-02', 'end':'2020-12-31'})"
   ]
  },
  {
   "cell_type": "code",
   "execution_count": 78,
   "metadata": {},
   "outputs": [
    {
     "name": "stderr",
     "output_type": "stream",
     "text": [
      "2020-10-19 13:29:54,867\tINFO trainable.py:481 -- Restored on 155.198.192.44 from checkpoint: checkpoint_13272/checkpoint-13272\n",
      "2020-10-19 13:29:54,868\tINFO trainable.py:489 -- Current state after restoring: {'_iteration': 13272, '_timesteps_total': None, '_time_total': 14658.747411251068, '_episodes_total': 15700}\n"
     ]
    }
   ],
   "source": [
    "agent.restore('checkpoint_13272/checkpoint-13272')"
   ]
  },
  {
   "cell_type": "code",
   "execution_count": 79,
   "metadata": {},
   "outputs": [
    {
     "data": {
      "text/plain": [
       "<matplotlib.axes._subplots.AxesSubplot at 0x7f174c7c3c10>"
      ]
     },
     "execution_count": 79,
     "metadata": {},
     "output_type": "execute_result"
    },
    {
     "data": {
      "image/png": "[encoded data removed]",
      "text/plain": [
       "<Figure size 432x288 with 1 Axes>"
      ]
     },
     "metadata": {
      "needs_background": "light"
     },
     "output_type": "display_data"
    }
   ],
   "source": [
    "state = env.reset()\n",
    "done = False\n",
    "reward_list = []\n",
    "cum_reward = 0\n",
    "actions = list()\n",
    "\n",
    "while not done:\n",
    "    action = agent.compute_action(state)\n",
    "    #action = np.array([0,0,0,1,0,0,0])\n",
    "    state, reward, done, _ = env.step(action)\n",
    "    cum_reward += reward\n",
    "    actions.append(action)\n",
    "    reward_list.append(reward)\n",
    "\n",
    "pd.Series(env.log_return_series).cumsum().plot()"
   ]
  },
  {
   "cell_type": "code",
   "execution_count": 80,
   "metadata": {},
   "outputs": [
    {
     "data": {
      "text/plain": [
       "<matplotlib.axes._subplots.AxesSubplot at 0x7f1728d6eaf0>"
      ]
     },
     "execution_count": 80,
     "metadata": {},
     "output_type": "execute_result"
    },
    {
     "data": {
      "image/png": "[encoded data removed]",
      "text/plain": [
       "<Figure size 432x288 with 1 Axes>"
      ]
     },
     "metadata": {
      "needs_background": "light"
     },
     "output_type": "display_data"
    }
   ],
   "source": [
    "pd.Series(reward_list).cumsum().plot()"
   ]
  },
  {
   "cell_type": "code",
   "execution_count": 81,
   "metadata": {},
   "outputs": [
    {
     "data": {
      "text/plain": [
       "<matplotlib.axes._subplots.AxesSubplot at 0x7f1708151490>"
      ]
     },
     "execution_count": 81,
     "metadata": {},
     "output_type": "execute_result"
    },
    {
     "data": {
      "image/png": "[encoded data removed]",
      "text/plain": [
       "<Figure size 432x288 with 1 Axes>"
      ]
     },
     "metadata": {
      "needs_background": "light"
     },
     "output_type": "display_data"
    }
   ],
   "source": [
    "pd.Series(reward_list).plot()"
   ]
  },
  {
   "cell_type": "code",
   "execution_count": null,
   "metadata": {},
   "outputs": [],
   "source": []
  },
  {
   "cell_type": "code",
   "execution_count": 61,
   "metadata": {},
   "outputs": [],
   "source": [
    "from empyrical import max_drawdown, alpha_beta, sharpe_ratio, annual_return"
   ]
  },
  {
   "cell_type": "code",
   "execution_count": 66,
   "metadata": {},
   "outputs": [
    {
     "data": {
      "text/plain": [
       "-0.4394242243444886"
      ]
     },
     "execution_count": 66,
     "metadata": {},
     "output_type": "execute_result"
    }
   ],
   "source": [
    "max_drawdown(pd.Series(env.log_return_series))"
   ]
  },
  {
   "cell_type": "code",
   "execution_count": 67,
   "metadata": {},
   "outputs": [
    {
     "data": {
      "text/plain": [
       "-0.03626487255199695"
      ]
     },
     "execution_count": 67,
     "metadata": {},
     "output_type": "execute_result"
    }
   ],
   "source": [
    "annual_return(pd.Series(env.log_return_series))"
   ]
  },
  {
   "cell_type": "code",
   "execution_count": null,
   "metadata": {},
   "outputs": [],
   "source": []
  }
 ],
 "metadata": {
  "kernelspec": {
   "display_name": "Python 3",
   "language": "python",
   "name": "python3"
  },
  "language_info": {
   "codemirror_mode": {
    "name": "ipython",
    "version": 3
   },
   "file_extension": ".py",
   "mimetype": "text/x-python",
   "name": "python",
   "nbconvert_exporter": "python",
   "pygments_lexer": "ipython3",
   "version": "3.8.3"
  }
 },
 "nbformat": 4,
 "nbformat_minor": 4
}
