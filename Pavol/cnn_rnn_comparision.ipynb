{
 "cells": [
  {
   "cell_type": "code",
   "execution_count": 1,
   "metadata": {},
   "outputs": [],
   "source": [
    "import gym\n",
    "from gym import spaces\n",
    "from gym.utils import seeding\n",
    "from tqdm import tqdm"
   ]
  },
  {
   "cell_type": "code",
   "execution_count": 2,
   "metadata": {},
   "outputs": [],
   "source": [
    "import pandas as pd\n",
    "import numpy as np\n",
    "import typing\n",
    "from datetime import datetime"
   ]
  },
  {
   "cell_type": "code",
   "execution_count": 3,
   "metadata": {},
   "outputs": [
    {
     "name": "stderr",
     "output_type": "stream",
     "text": [
      "2020-12-09 01:27:20,104\tINFO services.py:1092 -- View the Ray dashboard at \u001b[1m\u001b[32mhttp://127.0.0.1:8265\u001b[39m\u001b[22m\n",
      "2020-12-09 01:27:20,111\tWARNING services.py:1560 -- WARNING: The object store is using /tmp instead of /dev/shm because /dev/shm has only 67108864 bytes available. This may slow down performance! You may be able to free up space by deleting files in /dev/shm or terminating any running plasma_store_server processes. If you are inside a Docker container, you may need to pass an argument with the flag '--shm-size' to 'docker run'.\n"
     ]
    },
    {
     "data": {
      "text/plain": [
       "{'node_ip_address': '172.17.0.2',\n",
       " 'raylet_ip_address': '172.17.0.2',\n",
       " 'redis_address': '172.17.0.2:6379',\n",
       " 'object_store_address': '/tmp/ray/session_2020-12-09_01-27-19_556678_11232/sockets/plasma_store',\n",
       " 'raylet_socket_name': '/tmp/ray/session_2020-12-09_01-27-19_556678_11232/sockets/raylet',\n",
       " 'webui_url': '127.0.0.1:8265',\n",
       " 'session_dir': '/tmp/ray/session_2020-12-09_01-27-19_556678_11232',\n",
       " 'metrics_export_port': 54809,\n",
       " 'node_id': 'b3c1fd63ee35c4182977127bfce002e0f379b506'}"
      ]
     },
     "execution_count": 3,
     "metadata": {},
     "output_type": "execute_result"
    }
   ],
   "source": [
    "import ray\n",
    "# Start up Ray. This must be done before we instantiate any RL agents.\n",
    "ray.init(num_cpus=20, ignore_reinit_error=True, log_to_driver=False)"
   ]
  },
  {
   "cell_type": "code",
   "execution_count": 4,
   "metadata": {},
   "outputs": [],
   "source": [
    "\n",
    "def load_data(\n",
    "    price_source: str, \n",
    "    tickers: typing.List[str],\n",
    "    start: datetime, \n",
    "    end: datetime, \n",
    "    features: typing.List[str],\n",
    "):\n",
    "    \"\"\"Returned price data to use in gym environment\"\"\"\n",
    "    # Load data\n",
    "    # Each dataframe will have columns date and a collection of fields\n",
    "    # TODO: DataLoader from mongoDB\n",
    "    # Raw price from DB, forward impute on the trading days for missing date\n",
    "    # calculate the features (log return, volatility)\n",
    "    if price_source in [\"csvdata\"]:\n",
    "        feature_df = []\n",
    "        for t in tickers:\n",
    "            df1 = pd.read_csv(\"csvdata/{}.csv\".format(t))\n",
    "            df1['datetime'] = pd.to_datetime(df1['datetime'])\n",
    "            df1 = df1[(df1['datetime']>=start) & (df1['datetime']<=end)]\n",
    "            df1.set_index(\"datetime\",inplace=True)\n",
    "            selected_features = ['return','tcost'] + features\n",
    "            feature_df.append(df1[selected_features])\n",
    "            ref_df_columns = df1[selected_features].columns\n",
    "\n",
    "    # assume all the price_df are aligned and cleaned in the DataLoader\n",
    "    merged_df = pd.concat(feature_df, axis=1, join=\"outer\")\n",
    "    # Imputer missing values with zeros \n",
    "    price_tensor = merged_df['return'].fillna(0.0).values\n",
    "    tcost = merged_df['tcost'].fillna(0.0).values\n",
    "\n",
    "    return {\n",
    "        \"dates\": merged_df.index,\n",
    "        \"fields\": ref_df_columns,\n",
    "        \"data\": merged_df.fillna(0.0).values,\n",
    "        \"pricedata\": price_tensor,\n",
    "        \"tcost\": tcost,\n",
    "    }\n"
   ]
  },
  {
   "cell_type": "code",
   "execution_count": 5,
   "metadata": {},
   "outputs": [
    {
     "data": {
      "text/plain": [
       "array([[-2.36998991e-02,  4.25369008e-05,  1.09934270e-02,\n",
       "        -9.14812793e-01, -2.61064489e-01, -3.01849936e-02,\n",
       "         1.03231135e-04,  1.16465557e-02, -1.10048552e+00,\n",
       "         5.96949184e-01],\n",
       "       [-5.94984959e-03,  4.27953952e-05,  1.09991806e-02,\n",
       "        -9.10788716e-01, -2.70376218e-01, -5.12061786e-03,\n",
       "         1.03745202e-04,  1.16723407e-02, -9.95452223e-01,\n",
       "         4.23777969e-01],\n",
       "       [-3.36369023e-02,  4.42928644e-05,  1.30807177e-02,\n",
       "        -9.16682320e-01, -2.54900342e-01, -3.36202334e-02,\n",
       "         0.00000000e+00,  1.37192261e-02, -9.68839072e-01,\n",
       "        -4.24718444e-02],\n",
       "       [-1.49229482e-02,  4.49216118e-05,  1.31754036e-02,\n",
       "        -7.10326792e-01, -5.75516042e-01, -2.49435926e-02,\n",
       "         0.00000000e+00,  1.45399702e-02, -7.26873145e-01,\n",
       "        -6.77999658e-01],\n",
       "       [ 4.29173814e-02,  4.30496362e-05,  1.66156842e-02,\n",
       "         3.64864054e-01,  7.49281745e-01,  5.01088321e-02,\n",
       "         1.04701078e-04,  1.85963149e-02,  4.85487538e-01,\n",
       "         1.00154483e+00],\n",
       "       [-2.83321867e-03,  4.31685733e-05,  1.66096621e-02,\n",
       "         3.97455884e-01,  7.71150320e-01, -1.03600456e-03,\n",
       "         1.04788850e-04,  1.85902709e-02,  5.00760488e-01,\n",
       "         1.01652457e+00],\n",
       "       [ 1.38321429e-02,  4.25731193e-05,  1.67197778e-02,\n",
       "         3.83285096e-01,  6.79796060e-01,  1.84858246e-02,\n",
       "         1.02848915e-04,  1.90479506e-02,  4.14326683e-01,\n",
       "         6.36670606e-01],\n",
       "       [-1.24574586e-02,  4.31053063e-05,  1.68749185e-02,\n",
       "         4.77305606e-01,  6.20829768e-01, -1.57944420e-02,\n",
       "         1.04525975e-04,  1.90924952e-02,  5.89737350e-01,\n",
       "         7.52217559e-01],\n",
       "       [-1.81948624e-02,  4.38962293e-05,  1.69719556e-02,\n",
       "         4.73712400e-01,  5.68503491e-01, -1.92043281e-02,\n",
       "         0.00000000e+00,  1.93833946e-02,  7.09832439e-01,\n",
       "         7.12169398e-01],\n",
       "       [ 5.24473794e-04,  4.38769690e-05,  1.69286653e-02,\n",
       "         5.03839482e-01,  6.22996147e-01,  3.15641285e-03,\n",
       "         1.06145844e-04,  1.93252157e-02,  6.05525569e-01,\n",
       "         6.52081021e-01]])"
      ]
     },
     "execution_count": 5,
     "metadata": {},
     "output_type": "execute_result"
    }
   ],
   "source": [
    "load_data('csvdata',['SPY','QQQ',], datetime(2010, 5, 4), datetime(2020, 12, 31), [\"volatility_20\", \"skewness_20\", \"kurtosis_20\"] ) ['data'][:10,:]"
   ]
  },
  {
   "cell_type": "code",
   "execution_count": 6,
   "metadata": {},
   "outputs": [],
   "source": [
    "from empyrical import max_drawdown, alpha_beta, sharpe_ratio, annual_return\n",
    "from sklearn.preprocessing import StandardScaler \n",
    "\n",
    "class Equitydaily(gym.Env):\n",
    "\n",
    "    def __init__(self,env_config):\n",
    "        \n",
    "        self.tickers = env_config['tickers']\n",
    "        self.lookback = env_config['lookback']\n",
    "        self.random_start = env_config['random_start']\n",
    "        self.trading_days = env_config['trading_days'] # Number of days the algorithm runs before resetting\n",
    "        # Load price data, to be replaced by DataLoader class\n",
    "        raw_data = load_data(env_config['pricing_source'],env_config['tickers'],env_config['start'],env_config['end'],env_config['features'])\n",
    "        # Set the trading dates, features and price data \n",
    "        self.dates = raw_data['dates']\n",
    "        self.fields = raw_data['fields']\n",
    "        self.pricedata = raw_data['pricedata']\n",
    "        self.featuredata = raw_data['data']\n",
    "        self.tcostdata = raw_data['tcost']\n",
    "        # Set up historical actions and rewards \n",
    "        self.n_assets = len(self.tickers) + 1\n",
    "        self.n_metrics = 2 \n",
    "        self.n_assets_fields = len(self.fields)\n",
    "        self.n_features = self.n_assets_fields * len(self.tickers) + self.n_assets + self.n_metrics # reward function\n",
    "        #self.n_features = self.n_assets_fields * len(self.tickers)\n",
    "        \n",
    "        # Set up action and observation space\n",
    "        # The last asset is cash \n",
    "        self.action_space = spaces.Box(low=-1, high=1, shape=(len(self.tickers)+1,), dtype=np.float32)\n",
    "        if self.lookback == 1:\n",
    "            self.observation_space = spaces.Box(low=-np.inf, high=np.inf,\n",
    "                                            shape=(self.n_features,), dtype=np.float32)\n",
    "        else:\n",
    "            self.observation_space = spaces.Box(low=-np.inf, high=np.inf,\n",
    "                                            shape=(self.lookback,self.n_features,1), dtype=np.float32)\n",
    "\n",
    "        self.reset()\n",
    "\n",
    "        \n",
    "\n",
    "    def step(self, action):\n",
    "        \n",
    "        # Trade every 10 days \n",
    "        # Normalise action space \n",
    "        if (self.index - self.start_index) % 10 == 0:\n",
    "            normalised_action = action / np.sum(np.abs(action))\n",
    "            self.actions = normalised_action\n",
    "        \n",
    "        done = False\n",
    "        # Rebalance portfolio at close using return of the next date\n",
    "        next_day_log_return = self.pricedata[self.index,:]\n",
    "        # transaction cost \n",
    "        transaction_cost = self.transaction_cost(self.actions,self.position_series[-1])\n",
    "        \n",
    "        # Rebalancing \n",
    "        self.position_series = np.append(self.position_series, [self.actions], axis=0)\n",
    "        # Portfolio return \n",
    "        today_portfolio_return = np.sum(self.actions[:-1] * next_day_log_return) + np.sum(transaction_cost)\n",
    "        self.log_return_series = np.append(self.log_return_series, [today_portfolio_return], axis=0)\n",
    "        \n",
    "        \n",
    "        # Calculate reward \n",
    "        # Need to cast log_return in pd series to use the functions in empyrical \n",
    "        recent_series = pd.Series(self.log_return_series)[-100:]\n",
    "        #print(recent_series)\n",
    "        rolling_volatility = np.std(recent_series)\n",
    "        self.metric = today_portfolio_return / rolling_volatility \n",
    "        reward = self.metric\n",
    "        self.metric_series = np.append(self.metric_series, [self.metric], axis=0)\n",
    "        \n",
    "        # Check if the end of backtest\n",
    "        if self.trading_days is None:\n",
    "            done = self.index >= self.pricedata.shape[0]-2\n",
    "        else:\n",
    "            done = (self.index - self.start_index) >= self.trading_days\n",
    "            \n",
    "        # Prepare observation for next day\n",
    "        self.index += 1\n",
    "        self.observation = self.get_observation()\n",
    "            \n",
    "        return self.observation, reward, done, {}\n",
    "    \n",
    "    \n",
    "    def reset(self):\n",
    "        self.log_return_series = np.zeros(shape=self.lookback)\n",
    "        self.metric_series = np.zeros(shape=self.lookback)\n",
    "        self.position_series = np.zeros(shape=(self.lookback,self.n_assets))\n",
    "        self.metric = 0           \n",
    "        if self.random_start:\n",
    "            num_days = len(self.dates)      \n",
    "            self.start_index = np.random.randint(self.lookback, num_days - self.trading_days)\n",
    "            self.index = self.start_index\n",
    "        else:\n",
    "            self.start_index = self.lookback\n",
    "            self.index = self.lookback\n",
    "        self.actions = np.zeros(shape=self.n_assets)\n",
    "        self.observation = self.get_observation()\n",
    "        return self.observation\n",
    "    \n",
    "    def get_observation(self):\n",
    "        # Can use simple moving average data here \n",
    "        last_lookback_day = self.index - self.start_index\n",
    "        price_lookback = self.featuredata[last_lookback_day:last_lookback_day + self.lookback,:]\n",
    "        metrics = np.vstack((self.log_return_series[last_lookback_day:last_lookback_day + self.lookback], \n",
    "                             self.metric_series[last_lookback_day:last_lookback_day + self.lookback])).transpose()\n",
    "        positions = self.position_series[last_lookback_day:last_lookback_day + self.lookback]\n",
    "#        scaler = StandardScaler()\n",
    "#        price_lookback = scaler.fit_transform(price_lookback)\n",
    "        observation = np.concatenate((price_lookback, metrics, positions), axis=1)\n",
    "        if self.lookback == 1:\n",
    "            return observation.reshape(-1)\n",
    "        return observation.reshape((observation.shape[0], observation.shape[1], 1))\n",
    "    \n",
    "    # 0.05% and spread to model t-cost for institutional portfolios \n",
    "    def transaction_cost(self, new_action, old_action):\n",
    "        turnover = np.abs(new_action - old_action) \n",
    "        fees = 0.9995 - self.tcostdata[self.index,:]\n",
    "        fees = np.array(list(fees) + [0.9995])\n",
    "        tcost = turnover * np.log(fees)\n",
    "        return tcost "
   ]
  },
  {
   "cell_type": "code",
   "execution_count": 12,
   "metadata": {},
   "outputs": [
    {
     "name": "stdout",
     "output_type": "stream",
     "text": [
      "WARNING:tensorflow:From /root/anaconda3/envs/quant/lib/python3.7/site-packages/tensorflow/python/compat/v2_compat.py:96: disable_resource_variables (from tensorflow.python.ops.variable_scope) is deprecated and will be removed in a future version.\n",
      "Instructions for updating:\n",
      "non-resource variables are not supported in the long term\n"
     ]
    }
   ],
   "source": [
    "from ray.rllib.agents.ppo import PPOTrainer, DEFAULT_CONFIG\n",
    "from ray.tune.logger import pretty_print"
   ]
  },
  {
   "cell_type": "code",
   "execution_count": 13,
   "metadata": {},
   "outputs": [
    {
     "data": {
      "text/plain": [
       "'config = DEFAULT_CONFIG.copy()\\nconfig[\"num_workers\"] = 20\\nconfig[\"num_envs_per_worker\"] = 1\\nconfig[\"rollout_fragment_length\"] = 50\\nconfig[\"train_batch_size\"] = 25000\\nconfig[\"batch_mode\"] = \"complete_episodes\"\\nconfig[\"num_sgd_iter\"] = 20\\nconfig[\"sgd_minibatch_size\"] = 2000\\nconfig[\"model\"][\"dim\"] = 200\\nconfig[\"model\"][\"conv_filters\"] = [[16, [5, 1], 5], [16, [5, 1], 5], [16, [5, 1], 5]]\\nconfig[\\n    \"num_cpus_per_worker\"\\n] = 1  # This avoids running out of resources in the notebook environment when this cell is re-executed\\nconfig[\"env_config\"] = {\\n    \"pricing_source\": \"csvdata\",\\n    \"tickers\": [\\n        \"BRK_A\", \"GE_\",\"GOLD_\", \"AAPL_\",\"GS_\",\"T_\"\\n    ],\\n    \"lookback\": 200,\\n    \"start\": \"1995-01-02\",\\n    \"end\": \"2015-12-31\",\\n    \"features\": [\\n        \"return_volatility_20\",\\n        \"return_skewness_20\",\\n        \"adjvolume_volatility_20\",\\n    ],\\n    \"random_start\": True,\\n    \"trading_days\": 1000,\\n}'"
      ]
     },
     "execution_count": 13,
     "metadata": {},
     "output_type": "execute_result"
    }
   ],
   "source": [
    "from ray.rllib.models.tf.attention_net import GTrXLNet\n",
    "\n",
    "config = DEFAULT_CONFIG.copy()\n",
    "config['num_workers'] = 20\n",
    "config[\"num_envs_per_worker\"] = 1\n",
    "config[\"rollout_fragment_length\"] = 760\n",
    "config[\"train_batch_size\"] = 506*30\n",
    "config[\"batch_mode\"] = \"complete_episodes\"\n",
    "config['num_sgd_iter'] = 20\n",
    "config['sgd_minibatch_size'] = 3000\n",
    "config[\"lr\"] =  5e-5\n",
    "config['lambda'] = 0.9\n",
    "\n",
    "config['model']['use_lstm'] = True\n",
    "config['model']['max_seq_len'] = 760\n",
    "config['model']['lstm_cell_size'] = 30\n",
    "\n",
    "#config['model']['dim'] = 200\n",
    "config['model']['conv_filters'] = None #[[32, [5, 1], 5], [32, [5, 1], 5], [4, [5, 1], 5]]\n",
    "config['num_cpus_per_worker'] = 1  # This avoids running out of resources in the notebook environment when this cell is re-executed\n",
    "config['env_config'] = {'pricing_source':'csvdata', \"tickers\": [\"BRK_A\", \"GE_\",\"GOLD_\", \"AAPL_\",\"GS_\",\"T_\",],\n",
    "          'lookback':1, 'start':'2008-01-02', 'end':'2015-12-31', 'features':[\"return_volatility_20\", \"return_skewness_20\", \"return_kurtosis_20\"],\n",
    "          'random_start': True, 'trading_days': 759}\n",
    "\n",
    "\"\"\"config = DEFAULT_CONFIG.copy()\n",
    "config[\"num_workers\"] = 20\n",
    "config[\"num_envs_per_worker\"] = 1\n",
    "config[\"rollout_fragment_length\"] = 50\n",
    "config[\"train_batch_size\"] = 25000\n",
    "config[\"batch_mode\"] = \"complete_episodes\"\n",
    "config[\"num_sgd_iter\"] = 20\n",
    "config[\"sgd_minibatch_size\"] = 2000\n",
    "config[\"model\"][\"dim\"] = 200\n",
    "config[\"model\"][\"conv_filters\"] = [[16, [5, 1], 5], [16, [5, 1], 5], [16, [5, 1], 5]]\n",
    "config[\n",
    "    \"num_cpus_per_worker\"\n",
    "] = 1  # This avoids running out of resources in the notebook environment when this cell is re-executed\n",
    "config[\"env_config\"] = {\n",
    "    \"pricing_source\": \"csvdata\",\n",
    "    \"tickers\": [\n",
    "        \"BRK_A\", \"GE_\",\"GOLD_\", \"AAPL_\",\"GS_\",\"T_\"\n",
    "    ],\n",
    "    \"lookback\": 200,\n",
    "    \"start\": \"1995-01-02\",\n",
    "    \"end\": \"2015-12-31\",\n",
    "    \"features\": [\n",
    "        \"return_volatility_20\",\n",
    "        \"return_skewness_20\",\n",
    "        \"adjvolume_volatility_20\",\n",
    "    ],\n",
    "    \"random_start\": True,\n",
    "    \"trading_days\": 1000,\n",
    "}\"\"\""
   ]
  },
  {
   "cell_type": "code",
   "execution_count": 14,
   "metadata": {},
   "outputs": [
    {
     "data": {
      "text/plain": [
       "{'num_workers': 20,\n",
       " 'num_envs_per_worker': 1,\n",
       " 'create_env_on_driver': False,\n",
       " 'rollout_fragment_length': 760,\n",
       " 'batch_mode': 'complete_episodes',\n",
       " 'num_gpus': 0,\n",
       " 'train_batch_size': 15180,\n",
       " 'model': {'fcnet_hiddens': [256, 256],\n",
       "  'fcnet_activation': 'tanh',\n",
       "  'conv_filters': None,\n",
       "  'conv_activation': 'relu',\n",
       "  'free_log_std': False,\n",
       "  'no_final_linear': False,\n",
       "  'vf_share_layers': True,\n",
       "  'use_lstm': True,\n",
       "  'max_seq_len': 760,\n",
       "  'lstm_cell_size': 30,\n",
       "  'lstm_use_prev_action_reward': False,\n",
       "  '_time_major': False,\n",
       "  'framestack': True,\n",
       "  'dim': 84,\n",
       "  'grayscale': False,\n",
       "  'zero_mean': True,\n",
       "  'custom_model': None,\n",
       "  'custom_model_config': {},\n",
       "  'custom_action_dist': None,\n",
       "  'custom_preprocessor': None},\n",
       " 'optimizer': {},\n",
       " 'gamma': 0.99,\n",
       " 'horizon': None,\n",
       " 'soft_horizon': False,\n",
       " 'no_done_at_end': False,\n",
       " 'env_config': {'pricing_source': 'csvdata',\n",
       "  'tickers': ['BRK_A', 'GE_', 'GOLD_', 'AAPL_', 'GS_', 'T_'],\n",
       "  'lookback': 1,\n",
       "  'start': '2008-01-02',\n",
       "  'end': '2015-12-31',\n",
       "  'features': ['return_volatility_20',\n",
       "   'return_skewness_20',\n",
       "   'return_kurtosis_20'],\n",
       "  'random_start': True,\n",
       "  'trading_days': 759},\n",
       " 'env': None,\n",
       " 'normalize_actions': False,\n",
       " 'clip_rewards': None,\n",
       " 'clip_actions': True,\n",
       " 'preprocessor_pref': 'deepmind',\n",
       " 'lr': 5e-05,\n",
       " 'monitor': False,\n",
       " 'log_level': 'WARN',\n",
       " 'callbacks': ray.rllib.agents.callbacks.DefaultCallbacks,\n",
       " 'ignore_worker_failures': False,\n",
       " 'log_sys_usage': True,\n",
       " 'fake_sampler': False,\n",
       " 'framework': 'tf',\n",
       " 'eager_tracing': False,\n",
       " 'explore': True,\n",
       " 'exploration_config': {'type': 'StochasticSampling'},\n",
       " 'evaluation_interval': None,\n",
       " 'evaluation_num_episodes': 10,\n",
       " 'in_evaluation': False,\n",
       " 'evaluation_config': {},\n",
       " 'evaluation_num_workers': 0,\n",
       " 'custom_eval_function': None,\n",
       " 'sample_async': False,\n",
       " '_use_trajectory_view_api': True,\n",
       " 'observation_filter': 'NoFilter',\n",
       " 'synchronize_filters': True,\n",
       " 'tf_session_args': {'intra_op_parallelism_threads': 2,\n",
       "  'inter_op_parallelism_threads': 2,\n",
       "  'gpu_options': {'allow_growth': True},\n",
       "  'log_device_placement': False,\n",
       "  'device_count': {'CPU': 1},\n",
       "  'allow_soft_placement': True},\n",
       " 'local_tf_session_args': {'intra_op_parallelism_threads': 8,\n",
       "  'inter_op_parallelism_threads': 8},\n",
       " 'compress_observations': False,\n",
       " 'collect_metrics_timeout': 180,\n",
       " 'metrics_smoothing_episodes': 100,\n",
       " 'remote_worker_envs': False,\n",
       " 'remote_env_batch_wait_ms': 0,\n",
       " 'min_iter_time_s': 0,\n",
       " 'timesteps_per_iteration': 0,\n",
       " 'seed': None,\n",
       " 'extra_python_environs_for_driver': {},\n",
       " 'extra_python_environs_for_worker': {},\n",
       " 'num_cpus_per_worker': 1,\n",
       " 'num_gpus_per_worker': 0,\n",
       " 'custom_resources_per_worker': {},\n",
       " 'num_cpus_for_driver': 1,\n",
       " 'memory': 0,\n",
       " 'object_store_memory': 0,\n",
       " 'memory_per_worker': 0,\n",
       " 'object_store_memory_per_worker': 0,\n",
       " 'input': 'sampler',\n",
       " 'input_evaluation': ['is', 'wis'],\n",
       " 'postprocess_inputs': False,\n",
       " 'shuffle_buffer_size': 0,\n",
       " 'output': None,\n",
       " 'output_compress_columns': ['obs', 'new_obs'],\n",
       " 'output_max_file_size': 67108864,\n",
       " 'multiagent': {'policies': {},\n",
       "  'policy_mapping_fn': None,\n",
       "  'policies_to_train': None,\n",
       "  'observation_fn': None,\n",
       "  'replay_mode': 'independent'},\n",
       " 'logger_config': None,\n",
       " 'replay_sequence_length': 1,\n",
       " 'use_critic': True,\n",
       " 'use_gae': True,\n",
       " 'lambda': 0.9,\n",
       " 'kl_coeff': 0.2,\n",
       " 'sgd_minibatch_size': 3000,\n",
       " 'shuffle_sequences': True,\n",
       " 'num_sgd_iter': 20,\n",
       " 'lr_schedule': None,\n",
       " 'vf_share_layers': False,\n",
       " 'vf_loss_coeff': 1.0,\n",
       " 'entropy_coeff': 0.0,\n",
       " 'entropy_coeff_schedule': None,\n",
       " 'clip_param': 0.3,\n",
       " 'vf_clip_param': 10.0,\n",
       " 'grad_clip': None,\n",
       " 'kl_target': 0.01,\n",
       " 'simple_optimizer': False,\n",
       " '_fake_gpus': False}"
      ]
     },
     "execution_count": 14,
     "metadata": {},
     "output_type": "execute_result"
    }
   ],
   "source": [
    "config"
   ]
  },
  {
   "cell_type": "markdown",
   "metadata": {},
   "source": [
    "Check to see if agents can be trained"
   ]
  },
  {
   "cell_type": "code",
   "execution_count": 15,
   "metadata": {},
   "outputs": [
    {
     "name": "stderr",
     "output_type": "stream",
     "text": [
      "2020-12-09 01:27:34,869\tINFO services.py:1092 -- View the Ray dashboard at \u001b[1m\u001b[32mhttp://127.0.0.1:8265\u001b[39m\u001b[22m\n",
      "2020-12-09 01:27:34,875\tWARNING services.py:1560 -- WARNING: The object store is using /tmp instead of /dev/shm because /dev/shm has only 67108864 bytes available. This may slow down performance! You may be able to free up space by deleting files in /dev/shm or terminating any running plasma_store_server processes. If you are inside a Docker container, you may need to pass an argument with the flag '--shm-size' to 'docker run'.\n"
     ]
    },
    {
     "data": {
      "text/plain": [
       "{'node_ip_address': '172.17.0.2',\n",
       " 'raylet_ip_address': '172.17.0.2',\n",
       " 'redis_address': '172.17.0.2:6379',\n",
       " 'object_store_address': '/tmp/ray/session_2020-12-09_01-27-34_319763_11232/sockets/plasma_store',\n",
       " 'raylet_socket_name': '/tmp/ray/session_2020-12-09_01-27-34_319763_11232/sockets/raylet',\n",
       " 'webui_url': '127.0.0.1:8265',\n",
       " 'session_dir': '/tmp/ray/session_2020-12-09_01-27-34_319763_11232',\n",
       " 'metrics_export_port': 60424,\n",
       " 'node_id': 'd23fb2c853602442353b8300aa5e32ca51583164'}"
      ]
     },
     "execution_count": 15,
     "metadata": {},
     "output_type": "execute_result"
    }
   ],
   "source": [
    "ray.shutdown()\n",
    "ray.init(num_cpus=20, ignore_reinit_error=True, log_to_driver=False)"
   ]
  },
  {
   "cell_type": "code",
   "execution_count": 16,
   "metadata": {},
   "outputs": [
    {
     "name": "stderr",
     "output_type": "stream",
     "text": [
      "2020-12-09 01:27:35,426\tERROR syncer.py:63 -- Log sync requires rsync to be installed.\n",
      "2020-12-09 01:27:35,430\tINFO trainer.py:592 -- Tip: set framework=tfe or the --eager flag to enable TensorFlow eager execution\n",
      "2020-12-09 01:27:35,431\tINFO trainer.py:1065 -- `_use_trajectory_view_api` only supported for PyTorch so far! Will run w/o.\n",
      "2020-12-09 01:27:35,433\tINFO trainer.py:619 -- Current log_level is WARN. For more information, set 'log_level': 'INFO' / 'DEBUG' or use the -v and -vv flags.\n"
     ]
    },
    {
     "name": "stdout",
     "output_type": "stream",
     "text": [
      "Model: \"functional_3\"\n",
      "__________________________________________________________________________________________________\n",
      "Layer (type)                    Output Shape         Param #     Connected to                     \n",
      "==================================================================================================\n",
      "seq_in (InputLayer)             [(None,)]            0                                            \n",
      "__________________________________________________________________________________________________\n",
      "tf_op_layer_default_policy/Sequ [()]                 0           seq_in[0][0]                     \n",
      "__________________________________________________________________________________________________\n",
      "tf_op_layer_default_policy/Sequ [()]                 0           tf_op_layer_default_policy/Sequen\n",
      "__________________________________________________________________________________________________\n",
      "tf_op_layer_default_policy/Sequ [(None, 1)]          0           seq_in[0][0]                     \n",
      "__________________________________________________________________________________________________\n",
      "tf_op_layer_default_policy/Sequ [(None,)]            0           tf_op_layer_default_policy/Sequen\n",
      "__________________________________________________________________________________________________\n",
      "tf_op_layer_default_policy/Sequ [(None, 1)]          0           tf_op_layer_default_policy/Sequen\n",
      "__________________________________________________________________________________________________\n",
      "inputs (InputLayer)             [(None, None, 256)]  0                                            \n",
      "__________________________________________________________________________________________________\n",
      "h (InputLayer)                  [(None, 30)]         0                                            \n",
      "__________________________________________________________________________________________________\n",
      "c (InputLayer)                  [(None, 30)]         0                                            \n",
      "__________________________________________________________________________________________________\n",
      "tf_op_layer_default_policy/Sequ [(None, None)]       0           tf_op_layer_default_policy/Sequen\n",
      "                                                                 tf_op_layer_default_policy/Sequen\n",
      "__________________________________________________________________________________________________\n",
      "lstm (LSTM)                     [(None, None, 30), ( 34440       inputs[0][0]                     \n",
      "                                                                 h[0][0]                          \n",
      "                                                                 c[0][0]                          \n",
      "                                                                 tf_op_layer_default_policy/Sequen\n",
      "__________________________________________________________________________________________________\n",
      "logits (Dense)                  (None, None, 14)     434         lstm[0][0]                       \n",
      "__________________________________________________________________________________________________\n",
      "values (Dense)                  (None, None, 1)      31          lstm[0][0]                       \n",
      "==================================================================================================\n",
      "Total params: 34,905\n",
      "Trainable params: 34,905\n",
      "Non-trainable params: 0\n",
      "__________________________________________________________________________________________________\n"
     ]
    },
    {
     "name": "stderr",
     "output_type": "stream",
     "text": [
      "2020-12-09 01:27:44,004\tWARNING util.py:40 -- Install gputil for GPU system monitoring.\n"
     ]
    }
   ],
   "source": [
    "agent = PPOTrainer(config, Equitydaily)\n",
    "best_reward = -np.inf"
   ]
  },
  {
   "cell_type": "code",
   "execution_count": 17,
   "metadata": {},
   "outputs": [
    {
     "name": "stdout",
     "output_type": "stream",
     "text": [
      "WARNING:tensorflow:From /root/anaconda3/envs/quant/lib/python3.7/site-packages/ray/rllib/policy/tf_policy.py:877: Variable.load (from tensorflow.python.ops.variables) is deprecated and will be removed in a future version.\n",
      "Instructions for updating:\n",
      "Prefer Variable.assign which has equivalent behavior in 2.X.\n",
      "20\n",
      "-11.372250392943666\n",
      "40\n",
      "-6.61171448372655\n",
      "100\n",
      "120\n",
      "140\n",
      "160\n",
      "180\n",
      "200\n",
      "220\n",
      "240\n",
      "260\n",
      "280\n",
      "300\n",
      "320\n",
      "340\n",
      "360\n",
      "-5.976758708591645\n",
      "380\n",
      "-4.577359684621901\n",
      "400\n",
      "-3.274960741249105\n",
      "420\n",
      "440\n",
      "-3.044778818512877\n",
      "460\n",
      "480\n",
      "500\n",
      "520\n",
      "540\n",
      "560\n",
      "580\n",
      "600\n",
      "620\n",
      "640\n",
      "660\n",
      "680\n",
      "700\n",
      "720\n",
      "740\n",
      "-1.6115394548015722\n",
      "760\n",
      "0.11205533802706423\n",
      "780\n",
      "800\n",
      "820\n",
      "840\n",
      "860\n",
      "880\n",
      "900\n",
      "920\n",
      "940\n",
      "960\n",
      "980\n",
      "1000\n",
      "1020\n",
      "1040\n",
      "1060\n",
      "1080\n",
      "1100\n",
      "1120\n",
      "1140\n",
      "1160\n",
      "1180\n",
      "1200\n",
      "1220\n",
      "1240\n",
      "1260\n",
      "1280\n",
      "1300\n",
      "1320\n",
      "1340\n",
      "1360\n",
      "1380\n",
      "1400\n",
      "1420\n",
      "1440\n",
      "1460\n",
      "1480\n",
      "1500\n",
      "1520\n",
      "0.24053921248397017\n",
      "1540\n",
      "1560\n",
      "1580\n",
      "1600\n",
      "1620\n",
      "1640\n",
      "1660\n",
      "1680\n",
      "1700\n",
      "1720\n",
      "1740\n",
      "1760\n",
      "1780\n",
      "1800\n",
      "1820\n",
      "1840\n",
      "1860\n",
      "1880\n",
      "1900\n",
      "1920\n",
      "1940\n",
      "1960\n",
      "1980\n",
      "2000\n",
      "2020\n",
      "2040\n",
      "2060\n",
      "2080\n",
      "2100\n",
      "2120\n",
      "2140\n",
      "2160\n",
      "2180\n",
      "2200\n",
      "2220\n",
      "2240\n",
      "2260\n",
      "2280\n",
      "2300\n",
      "2320\n",
      "2340\n",
      "2360\n",
      "2380\n",
      "2400\n",
      "0.7298041955802944\n",
      "2420\n",
      "3.7493850706934717\n",
      "2440\n",
      "3.8089587222058\n",
      "2460\n",
      "2480\n",
      "2500\n",
      "2520\n",
      "2540\n",
      "4.1142840684785575\n",
      "2560\n",
      "4.513262132666821\n",
      "2580\n",
      "5.695837650240402\n",
      "2600\n",
      "6.38924908170306\n",
      "2620\n",
      "2640\n",
      "2660\n",
      "2680\n",
      "2700\n",
      "2720\n",
      "2740\n",
      "2760\n",
      "2780\n",
      "2800\n",
      "2820\n",
      "2840\n",
      "2860\n",
      "2880\n",
      "2900\n",
      "2920\n",
      "2940\n",
      "2960\n",
      "2980\n",
      "3000\n",
      "3020\n",
      "3040\n",
      "3060\n",
      "3080\n",
      "3100\n",
      "3120\n",
      "3140\n",
      "3160\n",
      "3180\n",
      "3200\n",
      "3220\n",
      "3240\n",
      "3260\n",
      "3280\n",
      "3300\n",
      "3320\n",
      "3340\n",
      "3360\n",
      "3380\n",
      "3400\n",
      "3420\n",
      "3440\n",
      "3460\n",
      "6.749516195045384\n",
      "3480\n",
      "3500\n"
     ]
    }
   ],
   "source": [
    "episodes = 3500\n",
    "ep_total = 0\n",
    "#ep_per_iter = config['train_batch_size']*config['sgd_minibatch_size']/config['env_config']['trading_days']\n",
    "#for i in tqdm(range(int(episodes/ep_per_iter))):\n",
    "while ep_total < episodes:\n",
    "    result = agent.train()\n",
    "    ep_total = result['episodes_total']\n",
    "    print(ep_total)\n",
    "    if result['episode_reward_mean'] > best_reward:\n",
    "        #path = agent.save('sampleagent')\n",
    "        #print(path)\n",
    "        best_reward = result['episode_reward_mean']\n",
    "        print(best_reward)"
   ]
  },
  {
   "cell_type": "code",
   "execution_count": 18,
   "metadata": {},
   "outputs": [
    {
     "name": "stdout",
     "output_type": "stream",
     "text": [
      "100\n"
     ]
    },
    {
     "data": {
      "text/plain": [
       "<AxesSubplot:>"
      ]
     },
     "execution_count": 18,
     "metadata": {},
     "output_type": "execute_result"
    },
    {
     "data": {
      "image/png": "[encoded data removed]",
      "text/plain": [
       "<Figure size 432x288 with 1 Axes>"
      ]
     },
     "metadata": {
      "needs_background": "light"
     },
     "output_type": "display_data"
    }
   ],
   "source": [
    "print(len(result['hist_stats']['episode_reward']))\n",
    "pd.Series(result['hist_stats']['episode_reward']).rolling(window=10).mean().plot()"
   ]
  },
  {
   "cell_type": "code",
   "execution_count": 19,
   "metadata": {},
   "outputs": [
    {
     "data": {
      "text/plain": [
       "1.3642190582432305"
      ]
     },
     "execution_count": 19,
     "metadata": {},
     "output_type": "execute_result"
    },
    {
     "data": {
      "image/png": "[encoded data removed]",
      "text/plain": [
       "<Figure size 432x288 with 1 Axes>"
      ]
     },
     "metadata": {
      "needs_background": "light"
     },
     "output_type": "display_data"
    }
   ],
   "source": [
    "env = Equitydaily(config['env_config'])\n",
    "state = env.reset()\n",
    "done = False\n",
    "reward_list = []\n",
    "cum_reward = 0\n",
    "actions = list()\n",
    "rnn_state = [np.zeros((30)),\n",
    "             np.zeros((30))]\n",
    "while not done:\n",
    "    action, rnn_state, _ = agent.compute_action(state, rnn_state, explore=False)\n",
    "    #action = np.array([0,0,0,0,0,0,1])\n",
    "    #action = agent.compute_action(state)\n",
    "    state, reward, done, _ = env.step(action)\n",
    "    cum_reward += reward\n",
    "    actions.append(action)\n",
    "    reward_list.append(reward)\n",
    "\n",
    "pd.Series(env.log_return_series).cumsum().plot()\n",
    "np.exp(pd.Series(env.log_return_series).cumsum().iloc[-1])"
   ]
  },
  {
   "cell_type": "code",
   "execution_count": 20,
   "metadata": {},
   "outputs": [
    {
     "name": "stderr",
     "output_type": "stream",
     "text": [
      "100%|██████████| 100/100 [02:20<00:00,  1.40s/it]\n"
     ]
    },
    {
     "data": {
      "text/plain": [
       "1.035518012062937"
      ]
     },
     "execution_count": 20,
     "metadata": {},
     "output_type": "execute_result"
    },
    {
     "data": {
      "image/png": "[encoded data removed]",
      "text/plain": [
       "<Figure size 432x288 with 1 Axes>"
      ]
     },
     "metadata": {
      "needs_background": "light"
     },
     "output_type": "display_data"
    }
   ],
   "source": [
    "eval_env_config = {'pricing_source':'csvdata', \"tickers\": [\"BRK_A\", \"GE_\",\"GOLD_\", \"AAPL_\",\"GS_\",\"T_\",],\n",
    "          'lookback':1, 'start':'2016-01-01', 'end':'2019-12-31', 'features':[\"return_volatility_20\", \"return_skewness_20\", \"return_kurtosis_20\"],\n",
    "          'random_start': True, 'trading_days': 759}\n",
    "\n",
    "env = Equitydaily(eval_env_config)\n",
    "last_log_returns = []\n",
    "for i in tqdm(range(100)):\n",
    "    state = env.reset()\n",
    "    done = False\n",
    "    reward_list = []\n",
    "    cum_reward = 0\n",
    "    actions = list()\n",
    "    rnn_state = [np.zeros((30)),\n",
    "                 np.zeros((30))]\n",
    "    while not done:\n",
    "        action, rnn_state, _ = agent.compute_action(state, rnn_state, explore=False)\n",
    "        #action = np.array([0,0,0,0,0,0,1])\n",
    "        #action = agent.compute_action(state)\n",
    "        state, reward, done, _ = env.step(action)\n",
    "        cum_reward += reward\n",
    "        actions.append(action)\n",
    "        reward_list.append(reward)\n",
    "    \n",
    "    last_log_returns.append(pd.Series(env.log_return_series).cumsum().iloc[-1])\n",
    "pd.Series(last_log_returns).plot()\n",
    "np.exp(np.mean(last_log_returns))"
   ]
  },
  {
   "cell_type": "markdown",
   "metadata": {
    "collapsed": true
   },
   "source": []
  },
  {
   "cell_type": "code",
   "execution_count": 21,
   "metadata": {},
   "outputs": [
    {
     "name": "stderr",
     "output_type": "stream",
     "text": [
      "100%|██████████| 100/100 [00:28<00:00,  3.46it/s]\n"
     ]
    },
    {
     "data": {
      "text/plain": [
       "1.0731393086982977"
      ]
     },
     "execution_count": 21,
     "metadata": {},
     "output_type": "execute_result"
    },
    {
     "data": {
      "image/png": "[encoded data removed]",
      "text/plain": [
       "<Figure size 432x288 with 1 Axes>"
      ]
     },
     "metadata": {
      "needs_background": "light"
     },
     "output_type": "display_data"
    }
   ],
   "source": [
    "for i in tqdm(range(100)):\n",
    "    env.reset()\n",
    "    done = False\n",
    "    reward_list = []\n",
    "    cum_reward = 0\n",
    "    actions = list()\n",
    "    rnn_state = [np.zeros((30)),\n",
    "                 np.zeros((30))]\n",
    "    while not done:\n",
    "        action = np.array([1,1,1,1,1,1,1])/7\n",
    "        _, reward, done, _ = env.step(action)\n",
    "        cum_reward += reward\n",
    "        actions.append(action)\n",
    "        reward_list.append(reward)\n",
    "    \n",
    "    last_log_returns.append(pd.Series(env.log_return_series).cumsum().iloc[-1])\n",
    "pd.Series(last_log_returns).plot()\n",
    "np.exp(np.mean(last_log_returns))"
   ]
  },
  {
   "cell_type": "code",
   "execution_count": 22,
   "metadata": {},
   "outputs": [
    {
     "data": {
      "text/plain": [
       "{'num_workers': 20,\n",
       " 'num_envs_per_worker': 1,\n",
       " 'create_env_on_driver': False,\n",
       " 'rollout_fragment_length': 760,\n",
       " 'batch_mode': 'complete_episodes',\n",
       " 'num_gpus': 0,\n",
       " 'train_batch_size': 15180,\n",
       " 'model': {'fcnet_hiddens': [256, 256],\n",
       "  'fcnet_activation': 'tanh',\n",
       "  'conv_filters': [[16, [5, 1], 5], [16, [5, 1], 5], [16, [5, 1], 5]],\n",
       "  'conv_activation': 'relu',\n",
       "  'free_log_std': False,\n",
       "  'no_final_linear': False,\n",
       "  'vf_share_layers': True,\n",
       "  'use_lstm': False,\n",
       "  'max_seq_len': 760,\n",
       "  'lstm_cell_size': 30,\n",
       "  'lstm_use_prev_action_reward': False,\n",
       "  '_time_major': False,\n",
       "  'framestack': True,\n",
       "  'dim': 200,\n",
       "  'grayscale': False,\n",
       "  'zero_mean': True,\n",
       "  'custom_model': None,\n",
       "  'custom_model_config': {},\n",
       "  'custom_action_dist': None,\n",
       "  'custom_preprocessor': None},\n",
       " 'optimizer': {},\n",
       " 'gamma': 0.99,\n",
       " 'horizon': None,\n",
       " 'soft_horizon': False,\n",
       " 'no_done_at_end': False,\n",
       " 'env_config': {'pricing_source': 'csvdata',\n",
       "  'tickers': ['BRK_A', 'GE_', 'GOLD_', 'AAPL_', 'GS_', 'T_'],\n",
       "  'lookback': 200,\n",
       "  'start': '2008-01-02',\n",
       "  'end': '2015-12-31',\n",
       "  'features': ['return_volatility_20',\n",
       "   'return_skewness_20',\n",
       "   'return_kurtosis_20'],\n",
       "  'random_start': True,\n",
       "  'trading_days': 759},\n",
       " 'env': None,\n",
       " 'normalize_actions': False,\n",
       " 'clip_rewards': None,\n",
       " 'clip_actions': True,\n",
       " 'preprocessor_pref': 'deepmind',\n",
       " 'lr': 5e-05,\n",
       " 'monitor': False,\n",
       " 'log_level': 'WARN',\n",
       " 'callbacks': ray.rllib.agents.callbacks.DefaultCallbacks,\n",
       " 'ignore_worker_failures': False,\n",
       " 'log_sys_usage': True,\n",
       " 'fake_sampler': False,\n",
       " 'framework': 'tf',\n",
       " 'eager_tracing': False,\n",
       " 'explore': True,\n",
       " 'exploration_config': {'type': 'StochasticSampling'},\n",
       " 'evaluation_interval': None,\n",
       " 'evaluation_num_episodes': 10,\n",
       " 'in_evaluation': False,\n",
       " 'evaluation_config': {},\n",
       " 'evaluation_num_workers': 0,\n",
       " 'custom_eval_function': None,\n",
       " 'sample_async': False,\n",
       " '_use_trajectory_view_api': True,\n",
       " 'observation_filter': 'NoFilter',\n",
       " 'synchronize_filters': True,\n",
       " 'tf_session_args': {'intra_op_parallelism_threads': 2,\n",
       "  'inter_op_parallelism_threads': 2,\n",
       "  'gpu_options': {'allow_growth': True},\n",
       "  'log_device_placement': False,\n",
       "  'device_count': {'CPU': 1},\n",
       "  'allow_soft_placement': True},\n",
       " 'local_tf_session_args': {'intra_op_parallelism_threads': 8,\n",
       "  'inter_op_parallelism_threads': 8},\n",
       " 'compress_observations': False,\n",
       " 'collect_metrics_timeout': 180,\n",
       " 'metrics_smoothing_episodes': 100,\n",
       " 'remote_worker_envs': False,\n",
       " 'remote_env_batch_wait_ms': 0,\n",
       " 'min_iter_time_s': 0,\n",
       " 'timesteps_per_iteration': 0,\n",
       " 'seed': None,\n",
       " 'extra_python_environs_for_driver': {},\n",
       " 'extra_python_environs_for_worker': {},\n",
       " 'num_cpus_per_worker': 1,\n",
       " 'num_gpus_per_worker': 0,\n",
       " 'custom_resources_per_worker': {},\n",
       " 'num_cpus_for_driver': 1,\n",
       " 'memory': 0,\n",
       " 'object_store_memory': 0,\n",
       " 'memory_per_worker': 0,\n",
       " 'object_store_memory_per_worker': 0,\n",
       " 'input': 'sampler',\n",
       " 'input_evaluation': ['is', 'wis'],\n",
       " 'postprocess_inputs': False,\n",
       " 'shuffle_buffer_size': 0,\n",
       " 'output': None,\n",
       " 'output_compress_columns': ['obs', 'new_obs'],\n",
       " 'output_max_file_size': 67108864,\n",
       " 'multiagent': {'policies': {},\n",
       "  'policy_mapping_fn': None,\n",
       "  'policies_to_train': None,\n",
       "  'observation_fn': None,\n",
       "  'replay_mode': 'independent'},\n",
       " 'logger_config': None,\n",
       " 'replay_sequence_length': 1,\n",
       " 'use_critic': True,\n",
       " 'use_gae': True,\n",
       " 'lambda': 0.9,\n",
       " 'kl_coeff': 0.2,\n",
       " 'sgd_minibatch_size': 3000,\n",
       " 'shuffle_sequences': True,\n",
       " 'num_sgd_iter': 20,\n",
       " 'lr_schedule': None,\n",
       " 'vf_share_layers': False,\n",
       " 'vf_loss_coeff': 1.0,\n",
       " 'entropy_coeff': 0.0,\n",
       " 'entropy_coeff_schedule': None,\n",
       " 'clip_param': 0.3,\n",
       " 'vf_clip_param': 10.0,\n",
       " 'grad_clip': None,\n",
       " 'kl_target': 0.01,\n",
       " 'simple_optimizer': False,\n",
       " '_fake_gpus': False}"
      ]
     },
     "execution_count": 22,
     "metadata": {},
     "output_type": "execute_result"
    }
   ],
   "source": [
    "config = DEFAULT_CONFIG.copy()\n",
    "config['num_workers'] = 20\n",
    "config[\"num_envs_per_worker\"] = 1\n",
    "config[\"rollout_fragment_length\"] = 760\n",
    "config[\"train_batch_size\"] = 506*30\n",
    "config[\"batch_mode\"] = \"complete_episodes\"\n",
    "config['num_sgd_iter'] = 20\n",
    "config['sgd_minibatch_size'] = 3000\n",
    "config[\"lr\"] = 5e-5\n",
    "config['lambda'] = 0.9\n",
    "\n",
    "config['model']['use_lstm'] = False\n",
    "config['model']['max_seq_len'] = 760\n",
    "config['model']['lstm_cell_size'] = 30\n",
    "\n",
    "config[\"model\"][\"dim\"] = 200\n",
    "config[\"model\"][\"conv_filters\"] = [[16, [5, 1], 5], [16, [5, 1], 5], [16, [5, 1], 5]]\n",
    "\n",
    "config['num_cpus_per_worker'] = 1  # This avoids running out of resources in the notebook environment when this cell is re-executed\n",
    "config['env_config'] = {'pricing_source':'csvdata', \"tickers\": [\"BRK_A\", \"GE_\",\"GOLD_\", \"AAPL_\",\"GS_\",\"T_\",],\n",
    "          'lookback': 200, 'start':'2008-01-02', 'end':'2015-12-31', 'features':[\"return_volatility_20\", \"return_skewness_20\", \"return_kurtosis_20\"],\n",
    "          'random_start': True, 'trading_days': 759}\n",
    "config"
   ]
  },
  {
   "cell_type": "code",
   "execution_count": 23,
   "metadata": {},
   "outputs": [
    {
     "name": "stderr",
     "output_type": "stream",
     "text": [
      "2020-12-09 03:38:29,922\tINFO services.py:1092 -- View the Ray dashboard at \u001b[1m\u001b[32mhttp://127.0.0.1:8265\u001b[39m\u001b[22m\n",
      "2020-12-09 03:38:29,927\tWARNING services.py:1560 -- WARNING: The object store is using /tmp instead of /dev/shm because /dev/shm has only 67092480 bytes available. This may slow down performance! You may be able to free up space by deleting files in /dev/shm or terminating any running plasma_store_server processes. If you are inside a Docker container, you may need to pass an argument with the flag '--shm-size' to 'docker run'.\n"
     ]
    },
    {
     "data": {
      "text/plain": [
       "{'node_ip_address': '172.17.0.2',\n",
       " 'raylet_ip_address': '172.17.0.2',\n",
       " 'redis_address': '172.17.0.2:6379',\n",
       " 'object_store_address': '/tmp/ray/session_2020-12-09_03-38-29_300300_11232/sockets/plasma_store',\n",
       " 'raylet_socket_name': '/tmp/ray/session_2020-12-09_03-38-29_300300_11232/sockets/raylet',\n",
       " 'webui_url': '127.0.0.1:8265',\n",
       " 'session_dir': '/tmp/ray/session_2020-12-09_03-38-29_300300_11232',\n",
       " 'metrics_export_port': 46992,\n",
       " 'node_id': '6b0503987e7a00dfa4b90382b289dbc2e8c07e4f'}"
      ]
     },
     "execution_count": 23,
     "metadata": {},
     "output_type": "execute_result"
    }
   ],
   "source": [
    "ray.shutdown()\n",
    "ray.init(num_cpus=20, ignore_reinit_error=True, log_to_driver=False)"
   ]
  },
  {
   "cell_type": "code",
   "execution_count": 24,
   "metadata": {},
   "outputs": [
    {
     "name": "stderr",
     "output_type": "stream",
     "text": [
      "2020-12-09 03:38:36,712\tWARNING util.py:40 -- Install gputil for GPU system monitoring.\n"
     ]
    }
   ],
   "source": [
    "agent = PPOTrainer(config, Equitydaily)\n",
    "best_reward = -np.inf"
   ]
  },
  {
   "cell_type": "code",
   "execution_count": 25,
   "metadata": {},
   "outputs": [
    {
     "name": "stdout",
     "output_type": "stream",
     "text": [
      "20\n",
      "-13.176841012111987\n",
      "40\n",
      "60\n",
      "80\n",
      "100\n",
      "120\n",
      "140\n",
      "160\n",
      "180\n",
      "200\n",
      "220\n",
      "240\n",
      "260\n",
      "-11.471914434785413\n",
      "280\n",
      "300\n",
      "320\n",
      "340\n",
      "-10.7923011159522\n",
      "360\n",
      "-7.7370268791296\n",
      "380\n",
      "-5.331692882535578\n",
      "400\n",
      "-1.3421593346441378\n",
      "420\n",
      "440\n",
      "-1.2342496420459492\n",
      "460\n",
      "480\n",
      "500\n",
      "520\n",
      "540\n",
      "560\n",
      "580\n",
      "600\n",
      "-0.5524022139343766\n",
      "620\n",
      "640\n",
      "0.056652560525448\n",
      "660\n",
      "2.9923144984261096\n",
      "680\n",
      "4.938332883638207\n",
      "700\n",
      "5.550117665839366\n",
      "720\n",
      "10.076645336572303\n",
      "740\n",
      "12.347483131381404\n",
      "760\n",
      "13.947696578206953\n",
      "780\n",
      "800\n",
      "17.418528498884967\n",
      "820\n",
      "840\n",
      "860\n",
      "880\n",
      "900\n",
      "920\n",
      "17.451875582110212\n",
      "940\n",
      "17.495382045994013\n",
      "960\n",
      "21.808202425138813\n",
      "980\n",
      "25.25231428211137\n",
      "1000\n",
      "28.640213603647616\n",
      "1020\n",
      "29.714316057167444\n",
      "1040\n",
      "31.378275236910962\n",
      "1060\n",
      "33.47214419964393\n",
      "1080\n",
      "1100\n",
      "1120\n",
      "34.22226756003048\n",
      "1140\n",
      "37.16532797823002\n",
      "1160\n",
      "1180\n",
      "41.32470945869783\n",
      "1200\n",
      "1220\n",
      "1240\n",
      "1260\n",
      "1280\n",
      "1300\n",
      "45.60733126060554\n",
      "1320\n",
      "1340\n",
      "48.02621975974768\n",
      "1360\n",
      "48.203965958679554\n",
      "1380\n",
      "49.254455239531374\n",
      "1400\n",
      "1420\n",
      "1440\n",
      "1460\n",
      "1480\n",
      "1500\n",
      "1520\n",
      "1540\n",
      "1560\n",
      "1580\n",
      "1600\n",
      "1620\n",
      "49.48635430724527\n",
      "1640\n",
      "51.92351077533972\n",
      "1660\n",
      "53.76250356634314\n",
      "1680\n",
      "1700\n",
      "54.48252451389374\n",
      "1720\n",
      "1740\n",
      "1760\n",
      "1780\n",
      "1800\n",
      "1820\n",
      "1840\n",
      "1860\n",
      "1880\n",
      "1900\n",
      "1920\n",
      "1940\n",
      "1960\n",
      "1980\n",
      "2000\n",
      "2020\n",
      "2040\n",
      "2060\n",
      "2080\n",
      "2100\n",
      "2120\n",
      "2140\n",
      "2160\n",
      "2180\n",
      "2200\n",
      "55.374120488434734\n",
      "2220\n",
      "55.72223546638914\n",
      "2240\n",
      "2260\n",
      "55.944721914897116\n",
      "2280\n",
      "2300\n",
      "2320\n",
      "2340\n",
      "2360\n",
      "2380\n",
      "58.946274286625695\n",
      "2400\n",
      "2420\n",
      "2440\n",
      "2460\n",
      "2480\n",
      "2500\n",
      "2520\n",
      "2540\n",
      "2560\n",
      "2580\n",
      "2600\n",
      "2620\n",
      "2640\n",
      "2660\n",
      "59.09381067359232\n",
      "2680\n",
      "60.63284583949793\n",
      "2700\n",
      "2720\n",
      "2740\n",
      "2760\n",
      "2780\n",
      "2800\n",
      "2820\n",
      "2840\n",
      "2860\n",
      "2880\n",
      "2900\n",
      "2920\n",
      "2940\n",
      "61.81083096999795\n",
      "2960\n",
      "62.46006746990455\n",
      "2980\n",
      "63.02156435919807\n",
      "3000\n",
      "3020\n",
      "3040\n",
      "3060\n",
      "3080\n",
      "3100\n",
      "3120\n",
      "3140\n",
      "3160\n",
      "3180\n",
      "3200\n",
      "3220\n",
      "3240\n",
      "3260\n",
      "3280\n",
      "3300\n",
      "3320\n",
      "3340\n",
      "3360\n",
      "3380\n",
      "3400\n",
      "3420\n",
      "3440\n",
      "63.042167949733766\n",
      "3460\n",
      "3480\n",
      "3500\n"
     ]
    }
   ],
   "source": [
    "episodes = 3500\n",
    "ep_total = 0\n",
    "#ep_per_iter = config['train_batch_size']*config['sgd_minibatch_size']/config['env_config']['trading_days']\n",
    "#for i in tqdm(range(int(episodes/ep_per_iter))):\n",
    "while ep_total < episodes:\n",
    "    result = agent.train()\n",
    "    ep_total = result['episodes_total']\n",
    "    print(ep_total)\n",
    "    if result['episode_reward_mean'] > best_reward:\n",
    "        #path = agent.save('sampleagent')\n",
    "        #print(path)\n",
    "        best_reward = result['episode_reward_mean']\n",
    "        print(best_reward)"
   ]
  },
  {
   "cell_type": "code",
   "execution_count": 28,
   "metadata": {},
   "outputs": [
    {
     "data": {
      "text/plain": [
       "1.6452648122783138"
      ]
     },
     "execution_count": 28,
     "metadata": {},
     "output_type": "execute_result"
    },
    {
     "data": {
      "image/png": "[encoded data removed]",
      "text/plain": [
       "<Figure size 432x288 with 1 Axes>"
      ]
     },
     "metadata": {
      "needs_background": "light"
     },
     "output_type": "display_data"
    }
   ],
   "source": [
    "env = Equitydaily(config['env_config'])\n",
    "state = env.reset()\n",
    "done = False\n",
    "reward_list = []\n",
    "cum_reward = 0\n",
    "actions = list()\n",
    "while not done:\n",
    "    #action, rnn_state, _ = agent.compute_action(state, rnn_state, explore=False)\n",
    "    #action = np.array([0,0,0,0,0,0,1])\n",
    "    action = agent.compute_action(state, explore=False)\n",
    "    state, reward, done, _ = env.step(action)\n",
    "    cum_reward += reward\n",
    "    actions.append(action)\n",
    "    reward_list.append(reward)\n",
    "\n",
    "pd.Series(env.log_return_series).cumsum().plot()\n",
    "np.exp(pd.Series(env.log_return_series).cumsum().iloc[-1])"
   ]
  },
  {
   "cell_type": "code",
   "execution_count": 33,
   "metadata": {},
   "outputs": [
    {
     "name": "stderr",
     "output_type": "stream",
     "text": [
      "100%|██████████| 100/100 [05:53<00:00,  3.54s/it]\n"
     ]
    },
    {
     "data": {
      "text/plain": [
       "1.213540889778119"
      ]
     },
     "execution_count": 33,
     "metadata": {},
     "output_type": "execute_result"
    },
    {
     "data": {
      "image/png": "[encoded data removed]",
      "text/plain": [
       "<Figure size 432x288 with 1 Axes>"
      ]
     },
     "metadata": {
      "needs_background": "light"
     },
     "output_type": "display_data"
    }
   ],
   "source": [
    "eval_env_config = {'pricing_source':'csvdata', \"tickers\": [\"BRK_A\", \"GE_\",\"GOLD_\", \"AAPL_\",\"GS_\",\"T_\",],\n",
    "          'lookback':200, 'start':'2016-01-01', 'end':'2019-12-31', 'features':[\"return_volatility_20\", \"return_skewness_20\", \"return_kurtosis_20\"],\n",
    "          'random_start': True, 'trading_days': 759}\n",
    "\n",
    "env = Equitydaily(eval_env_config)\n",
    "last_log_returns = []\n",
    "for i in tqdm(range(100)):\n",
    "    state = env.reset()\n",
    "    done = False\n",
    "    reward_list = []\n",
    "    cum_reward = 0\n",
    "    actions = list()\n",
    "    while not done:\n",
    "        action = agent.compute_action(state, explore=False)\n",
    "        state, reward, done, _ = env.step(action)\n",
    "        cum_reward += reward\n",
    "        actions.append(action)\n",
    "        reward_list.append(reward)\n",
    "    \n",
    "    last_log_returns.append(pd.Series(env.log_return_series).cumsum().iloc[-1])\n",
    "pd.Series(last_log_returns).plot()\n",
    "np.exp(np.mean(last_log_returns))"
   ]
  },
  {
   "cell_type": "code",
   "execution_count": 34,
   "metadata": {},
   "outputs": [
    {
     "name": "stderr",
     "output_type": "stream",
     "text": [
      "100%|██████████| 100/100 [00:48<00:00,  2.07it/s]\n"
     ]
    },
    {
     "data": {
      "text/plain": [
       "1.1819014304476607"
      ]
     },
     "execution_count": 34,
     "metadata": {},
     "output_type": "execute_result"
    },
    {
     "data": {
      "image/png": "[encoded data removed]",
      "text/plain": [
       "<Figure size 432x288 with 1 Axes>"
      ]
     },
     "metadata": {
      "needs_background": "light"
     },
     "output_type": "display_data"
    }
   ],
   "source": [
    "for i in tqdm(range(100)):\n",
    "    env.reset()\n",
    "    done = False\n",
    "    reward_list = []\n",
    "    cum_reward = 0\n",
    "    actions = list()\n",
    "    while not done:\n",
    "        action = np.array([1,1,1,1,1,1,1])/7\n",
    "        _, reward, done, _ = env.step(action)\n",
    "        cum_reward += reward\n",
    "        actions.append(action)\n",
    "        reward_list.append(reward)\n",
    "    \n",
    "    last_log_returns.append(pd.Series(env.log_return_series).cumsum().iloc[-1])\n",
    "pd.Series(last_log_returns).plot()\n",
    "np.exp(np.mean(last_log_returns))"
   ]
  },
  {
   "cell_type": "code",
   "execution_count": null,
   "metadata": {},
   "outputs": [],
   "source": []
  }
 ],
 "metadata": {
  "kernelspec": {
   "display_name": "Python3.7 (quant)",
   "language": "python",
   "name": "python3.7_quant"
  },
  "language_info": {
   "codemirror_mode": {
    "name": "ipython",
    "version": 3
   },
   "file_extension": ".py",
   "mimetype": "text/x-python",
   "name": "python",
   "nbconvert_exporter": "python",
   "pygments_lexer": "ipython3",
   "version": "3.7.9"
  }
 },
 "nbformat": 4,
 "nbformat_minor": 4
}
